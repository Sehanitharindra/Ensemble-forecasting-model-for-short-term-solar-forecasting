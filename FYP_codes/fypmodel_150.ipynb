{
  "cells": [
    {
      "cell_type": "code",
      "execution_count": null,
      "metadata": {
        "id": "USQdMlRProVJ"
      },
      "outputs": [],
      "source": []
    },
    {
      "cell_type": "code",
      "execution_count": null,
      "metadata": {
        "id": "Tdhk5BeAGYwo"
      },
      "outputs": [],
      "source": [
        "from google.colab import drive\n",
        "drive.mount('/content/drive')"
      ]
    },
    {
      "cell_type": "code",
      "execution_count": null,
      "metadata": {
        "id": "jW08ZKGra8pU"
      },
      "outputs": [],
      "source": [
        "#importing libraries\n",
        "import pandas as pd\n",
        "import numpy as np\n",
        "import matplotlib.pyplot as plt\n",
        "import plotly.express as px # to plot the time series plot\n",
        "from sklearn import metrics # for the evaluation\n",
        "from sklearn.preprocessing import LabelEncoder,MinMaxScaler\n",
        "import tensorflow as tf\n"
      ]
    },
    {
      "cell_type": "code",
      "execution_count": null,
      "metadata": {
        "id": "mS-as-x7ba63"
      },
      "outputs": [],
      "source": [
        "data = pd.read_csv('/content/drive/MyDrive/Pix_and_power.csv')#[:-1]\n",
        " #data.plot(color='red')"
      ]
    },
    {
      "cell_type": "code",
      "execution_count": null,
      "metadata": {
        "id": "BvIgBLNCcFAk"
      },
      "outputs": [],
      "source": [
        "for i in data.select_dtypes('object').columns:\n",
        "   le = LabelEncoder().fit(data[i])\n",
        "   data[i] = le.transform(data[i])\n",
        "data"
      ]
    },
    {
      "cell_type": "code",
      "execution_count": null,
      "metadata": {
        "id": "z5g77TLranRS"
      },
      "outputs": [],
      "source": [
        "data.columns\n",
        "print(data.columns)\n",
        "all_data = data['power'].values.astype(float)\n",
        "print(len(all_data))\n",
        "\n",
        "#training_set = training_set.iloc[:,1:2].values\n",
        "plt.figure(figsize=(100,9))\n",
        "plt.plot(all_data)\n",
        "\n",
        "#plt.plot(power, label = 'AVG power2')\n",
        "plt.suptitle('power')\n",
        "plt.show()\n"
      ]
    },
    {
      "cell_type": "code",
      "execution_count": null,
      "metadata": {
        "id": "7LVSQfU7TLxW"
      },
      "outputs": [],
      "source": [
        "data.columns\n",
        "print(data.columns)\n",
        "pix_data = data['pix_150'].values.astype(float)\n",
        "\n",
        "print(len(all_data))\n",
        "plt.figure(figsize=(100,9))\n",
        "\n",
        "plt.plot(pix_data)\n",
        "\n",
        "plt.suptitle('pix_150')\n",
        "plt.show()\n"
      ]
    },
    {
      "cell_type": "code",
      "execution_count": null,
      "metadata": {
        "id": "8ejcbwUNsVxw"
      },
      "outputs": [],
      "source": [
        "data.columns\n",
        "print(data.columns)\n",
        "time_data = data['time'].values.astype(float)\n",
        "\n",
        "print(len(all_data))\n",
        "plt.figure(figsize=(32,9))\n",
        "\n",
        "\n",
        "plt.plot(time_data)\n",
        "\n",
        "plt.suptitle('time')\n",
        "plt.show()"
      ]
    },
    {
      "cell_type": "code",
      "execution_count": null,
      "metadata": {
        "id": "L1-H7JkF2t6d"
      },
      "outputs": [],
      "source": [
        "num = int(len(data[[ 'pix_150']])/7)"
      ]
    },
    {
      "cell_type": "code",
      "execution_count": null,
      "metadata": {
        "id": "ugDqHzIM1v_1"
      },
      "outputs": [],
      "source": [
        "plt.figure(figsize=(12,4))\n",
        "#\n",
        "plt.plot( list(pix_data)[:num])\n",
        "\n",
        "#plt.plot(pred1)\n",
        "plt.title(\"white pixel count vs Time of day from 6:00:30 to 19:00:00 (s)\")\n",
        "plt.ylabel(\"white pixel count\")\n",
        "plt.xlabel(\"Time of day from 6:00:30 to 19:00:00 (s)\")\n",
        "# plt.legend((\"white pixel count\"))\n",
        "plt.show()"
      ]
    },
    {
      "cell_type": "code",
      "execution_count": null,
      "metadata": {
        "id": "bYaAHMAU2U2c"
      },
      "outputs": [],
      "source": [
        "plt.figure(figsize=(12,4))\n",
        "#\n",
        "plt.plot( all_data[:num])\n",
        "\n",
        "#plt.plot(pred1)\n",
        "plt.title(\"Generation vs Time of day from 6:00:30 to 19:00:00 (s)\")\n",
        "plt.ylabel(\"Generation (W)\")\n",
        "plt.xlabel(\"Time of day from 6:00:30 to 19:00:00 (s)\")\n",
        "# plt.legend((\"white pixel count\"))\n",
        "plt.show()\n",
        "\n"
      ]
    },
    {
      "cell_type": "code",
      "execution_count": null,
      "metadata": {
        "id": "2QCupIeRciTE"
      },
      "outputs": [],
      "source": [
        "X_scaler = MinMaxScaler()\n",
        "Y_scaler = MinMaxScaler()\n",
        "X_data = X_scaler.fit_transform(data[['pix_150']])\n",
        "X_data1 = X_scaler.fit_transform(data[['power']])\n",
        "Y_data = Y_scaler.fit_transform(data[['power']]) #np.array(data[['power']])#\n",
        "X_data\n",
        "Y_data"
      ]
    },
    {
      "cell_type": "code",
      "execution_count": null,
      "metadata": {
        "id": "XkrlcWwBm8Vb"
      },
      "outputs": [],
      "source": [
        "def custom_ts_multi_data_prep(dataset, target, start, end, window, horizon):\n",
        "    X = []\n",
        "    y = []\n",
        "    start = start + window\n",
        "    if end is None:\n",
        "       end = len(dataset) - horizon\n",
        "    for i in range(start, end):\n",
        "       indices = range(i-window, i)\n",
        "       X.append(dataset[indices])\n",
        "       #print(X)\n",
        "       indicey = range(i+1, i+1+horizon)\n",
        "       y.append(target[indicey][-1])\n",
        "    return np.array(X), np.array(y)"
      ]
    },
    {
      "cell_type": "code",
      "execution_count": null,
      "metadata": {
        "id": "cbl0ReTCnXdi"
      },
      "outputs": [],
      "source": [
        "hist_window = 80\n",
        "horizon = 20\n",
        "TRAIN_SPLIT = int(len(X_data)*0.7)\n",
        "\n",
        "x_train, y_train = custom_ts_multi_data_prep(X_data, Y_data, 0, TRAIN_SPLIT, hist_window, horizon)\n",
        "x_vali, y_vali = custom_ts_multi_data_prep(X_data, Y_data, TRAIN_SPLIT, None, hist_window, horizon)\n",
        "\n",
        "x_train1, y_train1 = custom_ts_multi_data_prep(X_data1, Y_data, 0, TRAIN_SPLIT, hist_window, horizon)\n",
        "x_vali1, y_vali1 = custom_ts_multi_data_prep(X_data1, Y_data, TRAIN_SPLIT, None, hist_window, horizon)\n",
        "print(len(x_train),len(x_train1))\n",
        "#len(Y_data)"
      ]
    },
    {
      "cell_type": "code",
      "execution_count": null,
      "metadata": {
        "id": "5XPiqv19nyzq"
      },
      "outputs": [],
      "source": [
        "#print ('Multiple window of past history\\n')\n",
        "#print(x_train[0])\n",
        "#print ('\\n Target horizon\\n')\n",
        "#print (y_train[0])"
      ]
    },
    {
      "cell_type": "code",
      "execution_count": null,
      "metadata": {
        "id": "9W__eFBIoa_7"
      },
      "outputs": [],
      "source": [
        "batch_size = 64\n",
        "buffer_size = 10\n",
        "train_data = tf.data.Dataset.from_tensor_slices((x_train, y_train))\n",
        "train_data = train_data.cache().shuffle(buffer_size).batch(batch_size).repeat()\n",
        "val_data = tf.data.Dataset.from_tensor_slices((x_vali, y_vali))\n",
        "val_data = val_data.batch(batch_size).repeat()\n",
        "\n",
        "train_data1 = tf.data.Dataset.from_tensor_slices((x_train1, y_train1))\n",
        "train_data1 = train_data1.cache().shuffle(buffer_size).batch(batch_size).repeat()\n",
        "val_data1 = tf.data.Dataset.from_tensor_slices((x_vali1, y_vali1))\n",
        "val_data1 = val_data1.batch(batch_size).repeat()\n",
        "val_data\n",
        "x_train.shape[-2:]\n"
      ]
    },
    {
      "cell_type": "code",
      "execution_count": null,
      "metadata": {
        "id": "g3y1zzAMqmqD"
      },
      "outputs": [],
      "source": [
        "lstm_model = tf.keras.models.Sequential([\n",
        "  tf.keras.layers.Bidirectional(tf.keras.layers.LSTM(32, return_sequences=True),input_shape=x_train.shape[-2:]),\n",
        "  #tf.keras.layers.Dropout(0.2),\n",
        "  tf.keras.layers.Bidirectional(tf.keras.layers.LSTM(32, return_sequences= True)),\n",
        "  # # #tf.keras.layers.Dropout(0.2),\n",
        "  # tf.keras.layers.Bidirectional(tf.keras.layers.LSTM(32, return_sequences= True)),\n",
        "  # tf.keras.layers.Bidirectional(tf.keras.layers.LSTM(128, return_sequences= True)),\n",
        "  # tf.keras.layers.Bidirectional(tf.keras.layers.LSTM(64, return_sequences= True)),\n",
        "  # tf.keras.layers.Bidirectional(tf.keras.layers.LSTM(16, return_sequences= True)),\n",
        "  # tf.keras.layers.Bidirectional(tf.keras.layers.LSTM(8, return_sequences= True)),\n",
        "  # tf.keras.layers.Bidirectional(tf.keras.layers.LSTM(8, return_sequences= True)),\n",
        "  tf.keras.layers.Bidirectional(tf.keras.layers.LSTM(16, return_sequences= True)),\n",
        "  tf.keras.layers.Bidirectional(tf.keras.layers.LSTM(16, return_sequences= True)),\n",
        "  tf.keras.layers.Bidirectional(tf.keras.layers.LSTM(8, return_sequences= True)),\n",
        "  tf.keras.layers.Bidirectional(tf.keras.layers.LSTM(8, return_sequences= False)),\n",
        "  #tf.keras.layers.Dense(2, activation='tanh'),\n",
        "  tf.keras.layers.Dense(8, activation='tanh'),\n",
        "  tf.keras.layers.Dropout(0.2),\n",
        "  tf.keras.layers.Dense(4, activation='tanh'),\n",
        "  tf.keras.layers.Dropout(0.2),\n",
        "  tf.keras.layers.Dense(4, activation='tanh'),\n",
        "  tf.keras.layers.Dropout(0.2),\n",
        "  #tf.keras.layers.Dense(2, activation='tanh'),\n",
        "  tf.keras.layers.Dense(2, activation='tanh'),\n",
        "  tf.keras.layers.Dropout(0.2),\n",
        "  tf.keras.layers.Dense(1),\n",
        " ])\n",
        "lstm_model.compile(optimizer='adam', loss='mse')\n",
        "lstm_model.summary()"
      ]
    },
    {
      "cell_type": "code",
      "execution_count": null,
      "metadata": {
        "id": "RchpDQsXq3lT"
      },
      "outputs": [],
      "source": [
        "model_path = '/content/drive/MyDrive/SkyImageModel_150.h5'\n",
        "early_stopings = tf.keras.callbacks.EarlyStopping(monitor='val_loss', min_delta=0, patience=10, verbose=1, mode='min')\n",
        "checkpoint =  tf.keras.callbacks.ModelCheckpoint(model_path, monitor='val_loss', save_best_only=True, mode='min', verbose=0)\n",
        "callbacks=[early_stopings,checkpoint]"
      ]
    },
    {
      "cell_type": "code",
      "execution_count": null,
      "metadata": {
        "colab": {
          "background_save": true,
          "base_uri": "https://localhost:8080/"
        },
        "id": "M8ZrAH2rr-W7",
        "outputId": "4bbf0122-48d3-4d6c-caa3-48e12d144c6c"
      },
      "outputs": [
        {
          "name": "stdout",
          "output_type": "stream",
          "text": [
            "Epoch 1/75\n",
            "100/100 [==============================] - 68s 436ms/step - loss: 0.1091 - val_loss: 0.0568\n",
            "Epoch 2/75\n",
            "100/100 [==============================] - 37s 370ms/step - loss: 0.0818 - val_loss: 0.0629\n",
            "Epoch 3/75\n",
            "100/100 [==============================] - 37s 373ms/step - loss: 0.0858 - val_loss: 0.0503\n",
            "Epoch 4/75\n",
            "100/100 [==============================] - 37s 373ms/step - loss: 0.0749 - val_loss: 0.0460\n",
            "Epoch 5/75\n",
            "100/100 [==============================] - 37s 369ms/step - loss: 0.0696 - val_loss: 0.0502\n",
            "Epoch 6/75\n",
            "100/100 [==============================] - 37s 369ms/step - loss: 0.0679 - val_loss: 0.0474\n",
            "Epoch 7/75\n",
            "100/100 [==============================] - 37s 367ms/step - loss: 0.0681 - val_loss: 0.0493\n",
            "Epoch 8/75\n",
            "100/100 [==============================] - 37s 370ms/step - loss: 0.0748 - val_loss: 0.0444\n",
            "Epoch 9/75\n",
            "100/100 [==============================] - 36s 363ms/step - loss: 0.0676 - val_loss: 0.0460\n",
            "Epoch 10/75\n",
            "100/100 [==============================] - 36s 363ms/step - loss: 0.0645 - val_loss: 0.0453\n",
            "Epoch 11/75\n",
            "100/100 [==============================] - 36s 361ms/step - loss: 0.0658 - val_loss: 0.0491\n",
            "Epoch 12/75\n",
            "100/100 [==============================] - 36s 362ms/step - loss: 0.0694 - val_loss: 0.0466\n",
            "Epoch 13/75\n",
            "100/100 [==============================] - 37s 371ms/step - loss: 0.0650 - val_loss: 0.0438\n",
            "Epoch 14/75\n",
            "100/100 [==============================] - 36s 363ms/step - loss: 0.0640 - val_loss: 0.0477\n",
            "Epoch 15/75\n",
            "100/100 [==============================] - 36s 360ms/step - loss: 0.0851 - val_loss: 0.0632\n",
            "Epoch 16/75\n",
            "100/100 [==============================] - 36s 358ms/step - loss: 0.0759 - val_loss: 0.0556\n",
            "Epoch 17/75\n",
            "100/100 [==============================] - 36s 360ms/step - loss: 0.0766 - val_loss: 0.0473\n",
            "Epoch 18/75\n",
            "100/100 [==============================] - 36s 361ms/step - loss: 0.0647 - val_loss: 0.0468\n",
            "Epoch 19/75\n",
            "100/100 [==============================] - 36s 365ms/step - loss: 0.0622 - val_loss: 0.0438\n",
            "Epoch 20/75\n",
            "100/100 [==============================] - 36s 364ms/step - loss: 0.0584 - val_loss: 0.0434\n",
            "Epoch 21/75\n",
            "100/100 [==============================] - 36s 362ms/step - loss: 0.0594 - val_loss: 0.0454\n",
            "Epoch 22/75\n",
            "100/100 [==============================] - 36s 362ms/step - loss: 0.0627 - val_loss: 0.0451\n",
            "Epoch 23/75\n",
            "100/100 [==============================] - 37s 368ms/step - loss: 0.0624 - val_loss: 0.0424\n",
            "Epoch 24/75\n",
            "100/100 [==============================] - 37s 369ms/step - loss: 0.0587 - val_loss: 0.0420\n",
            "Epoch 25/75\n",
            "100/100 [==============================] - 36s 365ms/step - loss: 0.0567 - val_loss: 0.0429\n",
            "Epoch 26/75\n",
            "100/100 [==============================] - 36s 365ms/step - loss: 0.0578 - val_loss: 0.0434\n",
            "Epoch 27/75\n",
            "100/100 [==============================] - 37s 366ms/step - loss: 0.0615 - val_loss: 0.0439\n",
            "Epoch 28/75\n",
            "100/100 [==============================] - 37s 367ms/step - loss: 0.0628 - val_loss: 0.0414\n",
            "Epoch 29/75\n",
            "100/100 [==============================] - 37s 367ms/step - loss: 0.0578 - val_loss: 0.0411\n",
            "Epoch 30/75\n",
            "100/100 [==============================] - 36s 363ms/step - loss: 0.0577 - val_loss: 0.0422\n",
            "Epoch 31/75\n",
            "100/100 [==============================] - 36s 362ms/step - loss: 0.0581 - val_loss: 0.0439\n",
            "Epoch 32/75\n",
            "100/100 [==============================] - 36s 361ms/step - loss: 0.0590 - val_loss: 0.0440\n",
            "Epoch 33/75\n",
            "100/100 [==============================] - 36s 360ms/step - loss: 0.0628 - val_loss: 0.0427\n",
            "Epoch 34/75\n",
            "100/100 [==============================] - 37s 366ms/step - loss: 0.0573 - val_loss: 0.0402\n",
            "Epoch 35/75\n",
            "100/100 [==============================] - 36s 362ms/step - loss: 0.0573 - val_loss: 0.0419\n",
            "Epoch 36/75\n",
            "100/100 [==============================] - 36s 361ms/step - loss: 0.0555 - val_loss: 0.0424\n",
            "Epoch 37/75\n",
            "100/100 [==============================] - 36s 362ms/step - loss: 0.0615 - val_loss: 0.0415\n",
            "Epoch 38/75\n",
            "100/100 [==============================] - 36s 362ms/step - loss: 0.0581 - val_loss: 0.0402\n",
            "Epoch 39/75\n",
            "100/100 [==============================] - 36s 363ms/step - loss: 0.0566 - val_loss: 0.0458\n",
            "Epoch 40/75\n",
            "100/100 [==============================] - 36s 362ms/step - loss: 0.0569 - val_loss: 0.0424\n",
            "Epoch 41/75\n",
            "100/100 [==============================] - 36s 361ms/step - loss: 0.0550 - val_loss: 0.0406\n",
            "Epoch 42/75\n",
            "100/100 [==============================] - 37s 365ms/step - loss: 0.0600 - val_loss: 0.0391\n",
            "Epoch 43/75\n",
            "100/100 [==============================] - 37s 369ms/step - loss: 0.0567 - val_loss: 0.0374\n",
            "Epoch 44/75\n",
            "100/100 [==============================] - 37s 367ms/step - loss: 0.0575 - val_loss: 0.0370\n",
            "Epoch 45/75\n",
            "100/100 [==============================] - 36s 360ms/step - loss: 0.0545 - val_loss: 0.0401\n",
            "Epoch 46/75\n",
            "100/100 [==============================] - 36s 360ms/step - loss: 0.0529 - val_loss: 0.0409\n",
            "Epoch 47/75\n",
            "100/100 [==============================] - 36s 361ms/step - loss: 0.0589 - val_loss: 0.0382\n",
            "Epoch 48/75\n",
            "100/100 [==============================] - 38s 384ms/step - loss: 0.0592 - val_loss: 0.0367\n",
            "Epoch 49/75\n",
            "100/100 [==============================] - 36s 364ms/step - loss: 0.0558 - val_loss: 0.0362\n",
            "Epoch 50/75\n",
            "100/100 [==============================] - 36s 360ms/step - loss: 0.0544 - val_loss: 0.0388\n",
            "Epoch 51/75\n",
            "100/100 [==============================] - 36s 365ms/step - loss: 0.0508 - val_loss: 0.0483\n",
            "Epoch 52/75\n",
            "100/100 [==============================] - 36s 361ms/step - loss: 0.0600 - val_loss: 0.0375\n",
            "Epoch 53/75\n",
            "100/100 [==============================] - 36s 361ms/step - loss: 0.0553 - val_loss: 0.0405\n",
            "Epoch 54/75\n",
            "100/100 [==============================] - 36s 365ms/step - loss: 0.0494 - val_loss: 0.0361\n",
            "Epoch 55/75\n",
            "100/100 [==============================] - 36s 359ms/step - loss: 0.0513 - val_loss: 0.0515\n",
            "Epoch 56/75\n",
            "100/100 [==============================] - 36s 362ms/step - loss: 0.0549 - val_loss: 0.0324\n",
            "Epoch 57/75\n",
            "100/100 [==============================] - 36s 363ms/step - loss: 0.0509 - val_loss: 0.0336\n",
            "Epoch 58/75\n",
            "100/100 [==============================] - 37s 366ms/step - loss: 0.0542 - val_loss: 0.0293\n",
            "Epoch 59/75\n",
            "100/100 [==============================] - 37s 367ms/step - loss: 0.0458 - val_loss: 0.0274\n",
            "Epoch 60/75\n",
            "100/100 [==============================] - 36s 363ms/step - loss: 0.0454 - val_loss: 0.0288\n",
            "Epoch 61/75\n",
            "100/100 [==============================] - 36s 360ms/step - loss: 0.0436 - val_loss: 0.0285\n",
            "Epoch 62/75\n",
            "100/100 [==============================] - 36s 359ms/step - loss: 0.0570 - val_loss: 0.0290\n",
            "Epoch 63/75\n",
            "100/100 [==============================] - 37s 365ms/step - loss: 0.0463 - val_loss: 0.0244\n",
            "Epoch 64/75\n",
            "100/100 [==============================] - 36s 362ms/step - loss: 0.0472 - val_loss: 0.0315\n",
            "Epoch 65/75\n",
            "100/100 [==============================] - 36s 360ms/step - loss: 0.0415 - val_loss: 0.0279\n",
            "Epoch 66/75\n",
            "100/100 [==============================] - 36s 361ms/step - loss: 0.0421 - val_loss: 0.0253\n",
            "Epoch 67/75\n",
            "100/100 [==============================] - 36s 365ms/step - loss: 0.0453 - val_loss: 0.0189\n",
            "Epoch 68/75\n",
            "100/100 [==============================] - 36s 364ms/step - loss: 0.0483 - val_loss: 0.0260\n",
            "Epoch 69/75\n",
            "100/100 [==============================] - 37s 369ms/step - loss: 0.0412 - val_loss: 0.0179\n",
            "Epoch 70/75\n",
            "100/100 [==============================] - 36s 363ms/step - loss: 0.0400 - val_loss: 0.0180\n",
            "Epoch 71/75\n",
            "100/100 [==============================] - 37s 368ms/step - loss: 0.0342 - val_loss: 0.0148\n",
            "Epoch 72/75\n",
            "100/100 [==============================] - 36s 365ms/step - loss: 0.0413 - val_loss: 0.0187\n",
            "Epoch 73/75\n",
            "100/100 [==============================] - 37s 369ms/step - loss: 0.0372 - val_loss: 0.0141\n",
            "Epoch 74/75\n",
            "100/100 [==============================] - 38s 375ms/step - loss: 0.0327 - val_loss: 0.0147\n",
            "Epoch 75/75\n",
            "100/100 [==============================] - 38s 378ms/step - loss: 0.0315 - val_loss: 0.0128\n"
          ]
        }
      ],
      "source": [
        "history = lstm_model.fit(train_data,epochs=75,steps_per_epoch=100,validation_data=val_data,validation_steps=50,verbose=1,callbacks=callbacks)"
      ]
    },
    {
      "cell_type": "code",
      "execution_count": null,
      "metadata": {
        "colab": {
          "background_save": true
        },
        "id": "KOaqMpDyq_-J",
        "outputId": "7e07d6c1-bcf1-4c6e-eb90-7615585a7342"
      },
      "outputs": [
        {
          "data": {
            "image/png": "[encoded data removed]",
            "text/plain": [
              "<Figure size 1152x648 with 1 Axes>"
            ]
          },
          "metadata": {},
          "output_type": "display_data"
        }
      ],
      "source": [
        "\n",
        "\n",
        "plt.figure(figsize=(16,9))\n",
        "plt.plot(history.history['loss'])\n",
        "plt.plot(history.history['val_loss'])\n",
        "plt.title('Model loss')\n",
        "plt.ylabel('loss')\n",
        "plt.xlabel('epoch')\n",
        "plt.legend(['train loss', 'validation loss'])\n",
        "plt.show()"
      ]
    },
    {
      "cell_type": "code",
      "execution_count": null,
      "metadata": {
        "colab": {
          "background_save": true
        },
        "id": "BLRPq9lOIYnL"
      },
      "outputs": [],
      "source": [
        "# num = int(len(data[[ 'pix']])/7)"
      ]
    },
    {
      "cell_type": "code",
      "execution_count": null,
      "metadata": {
        "colab": {
          "background_save": true
        },
        "id": "-ocNYZa0IUlV"
      },
      "outputs": [],
      "source": [
        "# data_val = X_scaler.fit_transform(data[[ 'pix']])[:num]\n",
        "# Expected = X_scaler.fit_transform(data[['power' ]])[:num]\n",
        "# print(len(Expected))\n",
        "# print(len(data_val))"
      ]
    },
    {
      "cell_type": "code",
      "execution_count": null,
      "metadata": {
        "colab": {
          "background_save": true
        },
        "id": "xjHak3UGI1ar"
      },
      "outputs": [],
      "source": [
        "# data_for_pred, Expected_val = custom_ts_multi_data_prep(data_val, Expected, 0, None, hist_window, horizon)"
      ]
    },
    {
      "cell_type": "code",
      "execution_count": null,
      "metadata": {
        "colab": {
          "background_save": true
        },
        "id": "a2CMpRKhIgaz"
      },
      "outputs": [],
      "source": [
        "# pred = []\n",
        "# print(len(data_for_pred))\n",
        "\n",
        "# for i in data_for_pred:\n",
        "#   #print(len(i))\n",
        "#   #print(i.shpae)\n",
        "#   i = i.reshape(1, i.shape[0], i.shape[1])\n",
        "#   pred.append(lstm_model.predict(i))\n",
        "#   #break\n",
        "# #pred = np.array(pred)\n",
        "# pred[0][0]"
      ]
    },
    {
      "cell_type": "code",
      "execution_count": null,
      "metadata": {
        "colab": {
          "background_save": true
        },
        "id": "wQcgrThqIdKk"
      },
      "outputs": [],
      "source": []
    },
    {
      "cell_type": "code",
      "execution_count": null,
      "metadata": {
        "colab": {
          "background_save": true
        },
        "id": "R4FCkUFeIlFD"
      },
      "outputs": [],
      "source": [
        "# act_pred =[]\n",
        "# for preds in pred:\n",
        "#   #print(preds)\n",
        "\n",
        "#   pred_Inverse = Y_scaler.inverse_transform(preds)\n",
        "#   act_pred.append(pred_Inverse)\n",
        "# len(act_pred)\n",
        "# #act_pred"
      ]
    },
    {
      "cell_type": "code",
      "execution_count": null,
      "metadata": {
        "colab": {
          "background_save": true
        },
        "id": "uPbtgr6JIqQD"
      },
      "outputs": [],
      "source": [
        "# predn = []\n",
        "# for item in list(act_pred):\n",
        "#   item = float(item[0])\n",
        "#   item = round(item, 2)\n",
        "#   predn.append(item)\n",
        "#   #print(item)\n",
        "# #pred"
      ]
    },
    {
      "cell_type": "code",
      "execution_count": null,
      "metadata": {
        "colab": {
          "background_save": true
        },
        "id": "GkSm9lUsIxD8"
      },
      "outputs": [],
      "source": []
    },
    {
      "cell_type": "code",
      "execution_count": null,
      "metadata": {
        "colab": {
          "background_save": true
        },
        "id": "nWk-LuLDIxbC"
      },
      "outputs": [],
      "source": [
        "# Expected = Y_scaler.inverse_transform(Expected)\n",
        "# Expected\n",
        "# Expected_list = []\n",
        "# for item in list(Expected):\n",
        "#   Expected_list.append(float(item[0]))\n",
        "#   #print(item)\n",
        "# len(Expected)"
      ]
    },
    {
      "cell_type": "code",
      "execution_count": null,
      "metadata": {
        "colab": {
          "background_save": true
        },
        "id": "VFwuoPnWIxbC"
      },
      "outputs": [],
      "source": [
        "# plt.figure(figsize=(12,4))\n",
        "# #\n",
        "# plt.plot( list(Expected[len(Expected)-len(predn):]))\n",
        "# plt.plot(predn)\n",
        "# # plt.plot(pred1)\n",
        "# plt.title(\"Generation vs Time of day from 6:00:30 to 19:00:00 (s)\")\n",
        "# plt.ylabel(\"Generation (W)\")\n",
        "# plt.xlabel(\"Time of day from 6:00:30 to 19:00:00 (s)\")\n",
        "# plt.legend(('Measured generation','Predicted generation'))\n",
        "# plt.show()"
      ]
    },
    {
      "cell_type": "code",
      "execution_count": null,
      "metadata": {
        "colab": {
          "background_save": true
        },
        "id": "dxda0-3X1la-",
        "outputId": "68d78144-600c-440d-d5d0-78e57702184f"
      },
      "outputs": [
        {
          "name": "stdout",
          "output_type": "stream",
          "text": [
            "Model: \"sequential_1\"\n",
            "_________________________________________________________________\n",
            " Layer (type)                Output Shape              Param #   \n",
            "=================================================================\n",
            " bidirectional_6 (Bidirectio  (None, 80, 64)           8704      \n",
            " nal)                                                            \n",
            "                                                                 \n",
            " bidirectional_7 (Bidirectio  (None, 80, 32)           10368     \n",
            " nal)                                                            \n",
            "                                                                 \n",
            " bidirectional_8 (Bidirectio  (None, 16)               2624      \n",
            " nal)                                                            \n",
            "                                                                 \n",
            " dense_5 (Dense)             (None, 8)                 136       \n",
            "                                                                 \n",
            " dropout_4 (Dropout)         (None, 8)                 0         \n",
            "                                                                 \n",
            " dense_6 (Dense)             (None, 4)                 36        \n",
            "                                                                 \n",
            " dropout_5 (Dropout)         (None, 4)                 0         \n",
            "                                                                 \n",
            " dense_7 (Dense)             (None, 2)                 10        \n",
            "                                                                 \n",
            " dropout_6 (Dropout)         (None, 2)                 0         \n",
            "                                                                 \n",
            " dense_8 (Dense)             (None, 1)                 3         \n",
            "                                                                 \n",
            "=================================================================\n",
            "Total params: 21,881\n",
            "Trainable params: 21,881\n",
            "Non-trainable params: 0\n",
            "_________________________________________________________________\n"
          ]
        }
      ],
      "source": [
        "lstm_model1 = tf.keras.models.Sequential([\n",
        "  tf.keras.layers.Bidirectional(tf.keras.layers.LSTM(32, return_sequences=True),input_shape=x_train.shape[-2:]),\n",
        "  #tf.keras.layers.Dropout(0.2),\n",
        "  #  tf.keras.layers.Bidirectional(tf.keras.layers.LSTM(128, return_sequences= True)),\n",
        "  # #tf.keras.layers.Dropout(0.2),\n",
        "  # # tf.keras.layers.Bidirectional(tf.keras.layers.LSTM(128, return_sequences= True)),\n",
        "  # # tf.keras.layers.Bidirectional(tf.keras.layers.LSTM(128, return_sequences= True)),\n",
        "  # tf.keras.layers.Bidirectional(tf.keras.layers.LSTM(32, return_sequences= True)),\n",
        "  # tf.keras.layers.Bidirectional(tf.keras.layers.LSTM(16, return_sequences= True)),\n",
        "  tf.keras.layers.Bidirectional(tf.keras.layers.LSTM(16, return_sequences= True)),\n",
        "  # tf.keras.layers.Bidirectional(tf.keras.layers.LSTM(8, return_sequences= True)),\n",
        "  # tf.keras.layers.Bidirectional(tf.keras.layers.LSTM(8, return_sequences= True)),\n",
        "  tf.keras.layers.Bidirectional(tf.keras.layers.LSTM(8, return_sequences= False)),\n",
        "  #tf.keras.layers.Dense(2, activation='tanh'),\n",
        "  tf.keras.layers.Dense(8, activation='tanh'),\n",
        "  tf.keras.layers.Dropout(0.2),\n",
        "  tf.keras.layers.Dense(4, activation='tanh'),\n",
        "  tf.keras.layers.Dropout(0.2),\n",
        "  #tf.keras.layers.Dense(2, activation='tanh'),\n",
        "  tf.keras.layers.Dense(2, activation='tanh'),\n",
        "  tf.keras.layers.Dropout(0.2),\n",
        "  tf.keras.layers.Dense(1),\n",
        " ])\n",
        "lstm_model1.compile(optimizer='adam', loss='mse')\n",
        "lstm_model1.summary()"
      ]
    },
    {
      "cell_type": "code",
      "execution_count": null,
      "metadata": {
        "colab": {
          "background_save": true
        },
        "id": "90j9DzPP2DL3"
      },
      "outputs": [],
      "source": [
        "model_path = '/content/drive/MyDrive/StatisticsModel_150.h5'\n",
        "early_stopings = tf.keras.callbacks.EarlyStopping(monitor='val_loss', min_delta=0, patience=10, verbose=1, mode='min')\n",
        "checkpoint =  tf.keras.callbacks.ModelCheckpoint(model_path, monitor='val_loss', save_best_only=True, mode='min', verbose=0)\n",
        "callbacks=[early_stopings,checkpoint]"
      ]
    },
    {
      "cell_type": "code",
      "execution_count": null,
      "metadata": {
        "colab": {
          "background_save": true
        },
        "id": "I7ICrMqU2GUI",
        "outputId": "e4644af2-65e4-4c3a-8e13-5254b36d8dc8"
      },
      "outputs": [
        {
          "name": "stdout",
          "output_type": "stream",
          "text": [
            "Epoch 1/50\n",
            "100/100 [==============================] - 34s 218ms/step - loss: 0.1027 - val_loss: 0.0568\n",
            "Epoch 2/50\n",
            "100/100 [==============================] - 19s 190ms/step - loss: 0.0743 - val_loss: 0.0480\n",
            "Epoch 3/50\n",
            "100/100 [==============================] - 19s 189ms/step - loss: 0.0736 - val_loss: 0.0453\n",
            "Epoch 4/50\n",
            "100/100 [==============================] - 18s 183ms/step - loss: 0.0641 - val_loss: 0.0459\n",
            "Epoch 5/50\n",
            "100/100 [==============================] - 19s 188ms/step - loss: 0.0626 - val_loss: 0.0434\n",
            "Epoch 6/50\n",
            "100/100 [==============================] - 18s 184ms/step - loss: 0.0606 - val_loss: 0.0441\n",
            "Epoch 7/50\n",
            "100/100 [==============================] - 18s 184ms/step - loss: 0.0619 - val_loss: 0.0442\n",
            "Epoch 8/50\n",
            "100/100 [==============================] - 18s 182ms/step - loss: 0.0676 - val_loss: 0.0450\n",
            "Epoch 9/50\n",
            "100/100 [==============================] - 18s 184ms/step - loss: 0.0600 - val_loss: 0.0479\n",
            "Epoch 10/50\n",
            "100/100 [==============================] - 18s 183ms/step - loss: 0.0584 - val_loss: 0.0425\n",
            "Epoch 11/50\n",
            "100/100 [==============================] - 18s 184ms/step - loss: 0.0565 - val_loss: 0.0461\n",
            "Epoch 12/50\n",
            "100/100 [==============================] - 18s 184ms/step - loss: 0.0630 - val_loss: 0.0436\n",
            "Epoch 13/50\n",
            "100/100 [==============================] - 19s 188ms/step - loss: 0.0614 - val_loss: 0.0425\n",
            "Epoch 14/50\n",
            "100/100 [==============================] - 19s 186ms/step - loss: 0.0585 - val_loss: 0.0473\n",
            "Epoch 15/50\n",
            "100/100 [==============================] - 19s 186ms/step - loss: 0.0573 - val_loss: 0.0424\n",
            "Epoch 16/50\n",
            "100/100 [==============================] - 19s 187ms/step - loss: 0.0564 - val_loss: 0.0424\n",
            "Epoch 17/50\n",
            "100/100 [==============================] - 19s 188ms/step - loss: 0.0602 - val_loss: 0.0424\n",
            "Epoch 18/50\n",
            "100/100 [==============================] - 19s 189ms/step - loss: 0.0610 - val_loss: 0.0401\n",
            "Epoch 19/50\n",
            "100/100 [==============================] - 19s 186ms/step - loss: 0.0555 - val_loss: 0.0428\n",
            "Epoch 20/50\n",
            "100/100 [==============================] - 19s 185ms/step - loss: 0.0547 - val_loss: 0.0409\n",
            "Epoch 21/50\n",
            "100/100 [==============================] - 18s 183ms/step - loss: 0.0544 - val_loss: 0.0417\n",
            "Epoch 22/50\n",
            "100/100 [==============================] - 18s 184ms/step - loss: 0.0589 - val_loss: 0.0428\n",
            "Epoch 23/50\n",
            "100/100 [==============================] - 18s 184ms/step - loss: 0.0605 - val_loss: 0.0447\n",
            "Epoch 24/50\n",
            "100/100 [==============================] - 19s 187ms/step - loss: 0.0555 - val_loss: 0.0390\n",
            "Epoch 25/50\n",
            "100/100 [==============================] - 19s 187ms/step - loss: 0.0537 - val_loss: 0.0394\n",
            "Epoch 26/50\n",
            "100/100 [==============================] - 18s 184ms/step - loss: 0.0539 - val_loss: 0.0396\n",
            "Epoch 27/50\n",
            "100/100 [==============================] - 18s 183ms/step - loss: 0.0552 - val_loss: 0.0393\n",
            "Epoch 28/50\n",
            "100/100 [==============================] - 18s 184ms/step - loss: 0.0600 - val_loss: 0.0408\n",
            "Epoch 29/50\n",
            "100/100 [==============================] - 18s 184ms/step - loss: 0.0532 - val_loss: 0.0411\n",
            "Epoch 30/50\n",
            "100/100 [==============================] - 18s 184ms/step - loss: 0.0531 - val_loss: 0.0433\n",
            "Epoch 31/50\n",
            "100/100 [==============================] - 19s 186ms/step - loss: 0.0534 - val_loss: 0.0453\n",
            "Epoch 32/50\n",
            "100/100 [==============================] - 18s 184ms/step - loss: 0.0569 - val_loss: 0.0433\n",
            "Epoch 33/50\n",
            "100/100 [==============================] - 19s 187ms/step - loss: 0.0583 - val_loss: 0.0380\n",
            "Epoch 34/50\n",
            "100/100 [==============================] - 19s 188ms/step - loss: 0.0513 - val_loss: 0.0373\n",
            "Epoch 35/50\n",
            "100/100 [==============================] - 18s 183ms/step - loss: 0.0502 - val_loss: 0.0410\n",
            "Epoch 36/50\n",
            "100/100 [==============================] - 19s 188ms/step - loss: 0.0486 - val_loss: 0.0361\n",
            "Epoch 37/50\n",
            "100/100 [==============================] - 19s 188ms/step - loss: 0.0535 - val_loss: 0.0337\n",
            "Epoch 38/50\n",
            "100/100 [==============================] - 19s 191ms/step - loss: 0.0480 - val_loss: 0.0303\n",
            "Epoch 39/50\n",
            "100/100 [==============================] - 19s 186ms/step - loss: 0.0470 - val_loss: 0.0313\n",
            "Epoch 40/50\n",
            "100/100 [==============================] - 19s 188ms/step - loss: 0.0439 - val_loss: 0.0289\n",
            "Epoch 41/50\n",
            "100/100 [==============================] - 19s 187ms/step - loss: 0.0444 - val_loss: 0.0322\n",
            "Epoch 42/50\n",
            "100/100 [==============================] - 19s 189ms/step - loss: 0.0483 - val_loss: 0.0261\n",
            "Epoch 43/50\n",
            "100/100 [==============================] - 19s 188ms/step - loss: 0.0421 - val_loss: 0.0244\n",
            "Epoch 44/50\n",
            "100/100 [==============================] - 18s 185ms/step - loss: 0.0426 - val_loss: 0.0308\n",
            "Epoch 45/50\n",
            "100/100 [==============================] - 18s 183ms/step - loss: 0.0398 - val_loss: 0.0265\n",
            "Epoch 46/50\n",
            "100/100 [==============================] - 18s 184ms/step - loss: 0.0391 - val_loss: 0.0361\n",
            "Epoch 47/50\n",
            "100/100 [==============================] - 18s 184ms/step - loss: 0.0487 - val_loss: 0.0353\n",
            "Epoch 48/50\n",
            "100/100 [==============================] - 18s 184ms/step - loss: 0.0431 - val_loss: 0.0271\n",
            "Epoch 49/50\n",
            "100/100 [==============================] - 19s 188ms/step - loss: 0.0401 - val_loss: 0.0222\n",
            "Epoch 50/50\n",
            "100/100 [==============================] - 19s 189ms/step - loss: 0.0401 - val_loss: 0.0218\n"
          ]
        }
      ],
      "source": [
        "history = lstm_model1.fit(train_data1,epochs=50,steps_per_epoch=100,validation_data=val_data1,validation_steps=50,verbose=1,callbacks=callbacks)"
      ]
    },
    {
      "cell_type": "code",
      "execution_count": null,
      "metadata": {
        "colab": {
          "background_save": true
        },
        "id": "rzAvyML6XAPz",
        "outputId": "f4e46658-fcb4-4f6a-efd6-6c27490780ff"
      },
      "outputs": [
        {
          "data": {
            "image/png": "[encoded data removed]",
            "text/plain": [
              "<Figure size 1152x648 with 1 Axes>"
            ]
          },
          "metadata": {},
          "output_type": "display_data"
        }
      ],
      "source": [
        "plt.figure(figsize=(16,9))\n",
        "plt.plot(history.history['loss'])\n",
        "plt.plot(history.history['val_loss'])\n",
        "plt.title('Model loss')\n",
        "plt.ylabel('loss')\n",
        "plt.xlabel('epoch')\n",
        "plt.legend(['train loss', 'validation loss'])\n",
        "plt.show()"
      ]
    },
    {
      "cell_type": "code",
      "execution_count": null,
      "metadata": {
        "colab": {
          "background_save": true
        },
        "id": "yn9PFLjp6eGw"
      },
      "outputs": [],
      "source": [
        "#num = int(len(data[[ 'pix']])*0.1)"
      ]
    },
    {
      "cell_type": "code",
      "execution_count": null,
      "metadata": {
        "colab": {
          "background_save": true
        },
        "id": "L_9AtdJz93UM",
        "outputId": "7e63454b-83c8-42e6-a1d7-86c7a550bb0a"
      },
      "outputs": [
        {
          "name": "stdout",
          "output_type": "stream",
          "text": [
            "1560\n",
            "1560\n"
          ]
        }
      ],
      "source": [
        "data_val = X_scaler.fit_transform(data[[ 'pix_150']])[:num]\n",
        "Expected = X_scaler.fit_transform(data[['power' ]])[:num]\n",
        "print(len(Expected))\n",
        "print(len(data_val))"
      ]
    },
    {
      "cell_type": "code",
      "execution_count": null,
      "metadata": {
        "colab": {
          "background_save": true
        },
        "id": "vyPpx2EUAEdE",
        "outputId": "cc21630f-71c7-4a26-f4c9-5761beaecb82"
      },
      "outputs": [
        {
          "name": "stdout",
          "output_type": "stream",
          "text": [
            "1560\n",
            "1560\n"
          ]
        }
      ],
      "source": [
        "data_val1 = X_scaler.fit_transform(data[[ 'power']])[:num]\n",
        "Expected1 = X_scaler.fit_transform(data[['power' ]])[:num]\n",
        "print(len(Expected1))\n",
        "print(len(data_val1))"
      ]
    },
    {
      "cell_type": "code",
      "execution_count": null,
      "metadata": {
        "colab": {
          "background_save": true
        },
        "id": "8fb6pGgv-vNc"
      },
      "outputs": [],
      "source": [
        "data_for_pred, Expected_val = custom_ts_multi_data_prep(data_val, Expected, 0, None, hist_window, horizon)\n",
        "data_for_pred1, Expected_val1 = custom_ts_multi_data_prep(data_val1, Expected1, 0, None, hist_window, horizon)\n",
        "#data_for_pred[0], Expected_val[0]"
      ]
    },
    {
      "cell_type": "code",
      "execution_count": null,
      "metadata": {
        "colab": {
          "background_save": true
        },
        "id": "DtuGcvmAicbX"
      },
      "outputs": [],
      "source": [
        "# len(data_for_pred)"
      ]
    },
    {
      "cell_type": "code",
      "execution_count": null,
      "metadata": {
        "colab": {
          "background_save": true
        },
        "id": "OQyKSKWSvpnX",
        "outputId": "895e436e-ca15-4961-d881-654c6cc8cb75"
      },
      "outputs": [
        {
          "name": "stdout",
          "output_type": "stream",
          "text": [
            "1460\n"
          ]
        },
        {
          "data": {
            "text/plain": [
              "array([0.0563373], dtype=float32)"
            ]
          },
          "execution_count": 37,
          "metadata": {},
          "output_type": "execute_result"
        }
      ],
      "source": [
        "pred = []\n",
        "print(len(data_for_pred))\n",
        "\n",
        "for i in data_for_pred:\n",
        "  #print(len(i))\n",
        "  #print(i.shpae)\n",
        "  i = i.reshape(1, i.shape[0], i.shape[1])\n",
        "  pred.append(lstm_model.predict(i))\n",
        "  #break\n",
        "#pred = np.array(pred)\n",
        "pred[0][0]"
      ]
    },
    {
      "cell_type": "code",
      "execution_count": null,
      "metadata": {
        "colab": {
          "background_save": true
        },
        "id": "7jYQ2UfSAXjU",
        "outputId": "f760ef8e-d74e-4f7b-c6e3-e219b9687983"
      },
      "outputs": [
        {
          "name": "stdout",
          "output_type": "stream",
          "text": [
            "1460\n"
          ]
        },
        {
          "data": {
            "text/plain": [
              "array([0.0298578], dtype=float32)"
            ]
          },
          "execution_count": 38,
          "metadata": {},
          "output_type": "execute_result"
        }
      ],
      "source": [
        "pred1 = []\n",
        "print(len(data_for_pred1))\n",
        "\n",
        "for i in data_for_pred1:\n",
        "  #print(len(i))\n",
        "  #print(i.shpae)\n",
        "  i = i.reshape(1, i.shape[0], i.shape[1])\n",
        "  pred1.append(lstm_model1.predict(i))\n",
        "  #break\n",
        "#pred = np.array(pred)\n",
        "pred1[0][0]"
      ]
    },
    {
      "cell_type": "code",
      "execution_count": null,
      "metadata": {
        "colab": {
          "background_save": true
        },
        "id": "gQnYfm_dnvB8"
      },
      "outputs": [],
      "source": [
        "#pred"
      ]
    },
    {
      "cell_type": "code",
      "execution_count": null,
      "metadata": {
        "colab": {
          "background_save": true
        },
        "id": "kFOiLmBwZRQ-",
        "outputId": "557bd812-063f-4f92-cfcb-a06f606fd111"
      },
      "outputs": [
        {
          "data": {
            "text/plain": [
              "1460"
            ]
          },
          "execution_count": 40,
          "metadata": {},
          "output_type": "execute_result"
        }
      ],
      "source": [
        "act_pred =[]\n",
        "for preds in pred:\n",
        "  #print(preds)\n",
        "\n",
        "  pred_Inverse = Y_scaler.inverse_transform(preds)\n",
        "  act_pred.append(pred_Inverse)\n",
        "len(act_pred)\n",
        "#act_pred"
      ]
    },
    {
      "cell_type": "code",
      "execution_count": null,
      "metadata": {
        "colab": {
          "background_save": true
        },
        "id": "-U08gZ4yFrNs",
        "outputId": "b9389930-a85b-4b3d-897e-3813817138d4"
      },
      "outputs": [
        {
          "data": {
            "text/plain": [
              "1460"
            ]
          },
          "execution_count": 41,
          "metadata": {},
          "output_type": "execute_result"
        }
      ],
      "source": [
        "act_pred1 =[]\n",
        "for preds in pred1:\n",
        "  #print(preds)\n",
        "\n",
        "  pred_Inverse = Y_scaler.inverse_transform(preds)\n",
        "  act_pred1.append(pred_Inverse)\n",
        "len(act_pred1)"
      ]
    },
    {
      "cell_type": "code",
      "execution_count": null,
      "metadata": {
        "colab": {
          "background_save": true
        },
        "id": "wctmyxkuZUtL"
      },
      "outputs": [],
      "source": [
        "predn = []\n",
        "for item in list(act_pred):\n",
        "  item = float(item[0])\n",
        "  item = round(item, 2)\n",
        "  predn.append(item)\n",
        "  #print(item)\n",
        "#pred"
      ]
    },
    {
      "cell_type": "code",
      "execution_count": null,
      "metadata": {
        "colab": {
          "background_save": true
        },
        "id": "y5HKgPUcFymk"
      },
      "outputs": [],
      "source": [
        "predn1 = []\n",
        "for item in list(act_pred1):\n",
        "  item = float(item[0])\n",
        "  item = round(item, 2)\n",
        "  predn1.append(item)\n",
        "  #print(item)\n",
        "#pred"
      ]
    },
    {
      "cell_type": "code",
      "execution_count": null,
      "metadata": {
        "colab": {
          "background_save": true
        },
        "id": "sFIYZ7PGh70t",
        "outputId": "00a0bb34-6d7f-4704-a3b5-15ae8019eb87"
      },
      "outputs": [
        {
          "data": {
            "text/plain": [
              "(1560, 1460)"
            ]
          },
          "execution_count": 44,
          "metadata": {},
          "output_type": "execute_result"
        }
      ],
      "source": [
        "len(Expected), len(pred)"
      ]
    },
    {
      "cell_type": "code",
      "execution_count": null,
      "metadata": {
        "colab": {
          "background_save": true
        },
        "id": "B-hmnvTszNiZ",
        "outputId": "a10fdc07-f9ec-4a72-dd4a-631002164f64"
      },
      "outputs": [
        {
          "data": {
            "text/plain": [
              "1560"
            ]
          },
          "execution_count": 45,
          "metadata": {},
          "output_type": "execute_result"
        }
      ],
      "source": [
        "Expected = Y_scaler.inverse_transform(Expected)\n",
        "Expected\n",
        "Expected_list = []\n",
        "for item in list(Expected):\n",
        "  Expected_list.append(float(item[0]))\n",
        "  #print(item)\n",
        "len(Expected)"
      ]
    },
    {
      "cell_type": "code",
      "execution_count": null,
      "metadata": {
        "colab": {
          "background_save": true
        },
        "id": "EcNKftWr1laq"
      },
      "outputs": [],
      "source": [
        "Expected1 = Expected[len(Expected)-len(predn):]"
      ]
    },
    {
      "cell_type": "code",
      "execution_count": null,
      "metadata": {
        "colab": {
          "background_save": true
        },
        "id": "AFoNiEy8ZZds",
        "outputId": "61c14841-d51e-408c-b6e3-c451b65cf3e8"
      },
      "outputs": [
        {
          "data": {
            "image/png": "[encoded data removed]",
            "text/plain": [
              "<Figure size 864x288 with 1 Axes>"
            ]
          },
          "metadata": {},
          "output_type": "display_data"
        }
      ],
      "source": [
        "plt.figure(figsize=(12,4))\n",
        "#\n",
        "plt.plot( list(Expected1))\n",
        "plt.plot(predn)\n",
        "# plt.plot(pred1)\n",
        "plt.title(\"Generation vs Time of day from 6:00:30 to 19:00:00 (s)\")\n",
        "plt.ylabel(\"Generation (W)\")\n",
        "plt.xlabel(\"Time of day from 6:00:30 to 19:00:00 (s)\")\n",
        "plt.legend(('Measured generation','Predicted generation'))\n",
        "plt.show()"
      ]
    },
    {
      "cell_type": "code",
      "execution_count": null,
      "metadata": {
        "colab": {
          "background_save": true
        },
        "id": "J1DdvFi0Anib",
        "outputId": "d4cf1f7f-804c-40bf-e612-3518e313c578"
      },
      "outputs": [
        {
          "data": {
            "image/png": "[encoded data removed]",
            "text/plain": [
              "<Figure size 864x288 with 1 Axes>"
            ]
          },
          "metadata": {},
          "output_type": "display_data"
        }
      ],
      "source": [
        "plt.figure(figsize=(12,4))\n",
        "#\n",
        "plt.plot( list(Expected1))\n",
        "plt.plot(predn1)\n",
        "#plt.plot(pred1)\n",
        "plt.title(\"Generation vs Time of day from 6:00:30 to 19:00:00 (s)\")\n",
        "plt.ylabel(\"Generation (W)\")\n",
        "plt.xlabel(\"Time of day from 6:00:30 to 19:00:00 (s)\")\n",
        "plt.legend(('Measured generation','Predicted generation'))\n",
        "plt.show()"
      ]
    },
    {
      "cell_type": "code",
      "execution_count": null,
      "metadata": {
        "colab": {
          "background_save": true
        },
        "id": "g8iQMuuGx3tc",
        "outputId": "c76dbf24-0264-41d0-c0cb-6e56cda70f2c"
      },
      "outputs": [
        {
          "name": "stdout",
          "output_type": "stream",
          "text": [
            "rmse value sky imagery model 1.2113069046417968\n"
          ]
        }
      ],
      "source": [
        "rmse = []\n",
        "for i in range(len(Expected1)):\n",
        "  per_err = (Expected1[i][0] - predn[i])**2\n",
        "  # print(per_err)\n",
        "  rmse.append(per_err)\n",
        "rmse = list(rmse)\n",
        "rmse = (sum(rmse)/len(rmse))**0.5\n",
        "print('rmse value sky imagery model',rmse)"
      ]
    },
    {
      "cell_type": "code",
      "execution_count": null,
      "metadata": {
        "colab": {
          "background_save": true
        },
        "id": "lh1GLIzcAaX0",
        "outputId": "3d4cae95-7049-4ab3-8a73-4aaec284d58c"
      },
      "outputs": [
        {
          "name": "stdout",
          "output_type": "stream",
          "text": [
            "rmse value statistical model 1.5910719160020423\n"
          ]
        }
      ],
      "source": [
        "rmse = []\n",
        "for i in range(len(predn1)):\n",
        "  per_err = (Expected1[i][0] - predn1[i])**2\n",
        "  rmse.append(per_err)\n",
        "rmse = list(rmse)\n",
        "rmse = (sum(rmse)/len(rmse))**0.5\n",
        "print('rmse value statistical model',rmse)"
      ]
    },
    {
      "cell_type": "code",
      "execution_count": null,
      "metadata": {
        "colab": {
          "background_save": true
        },
        "id": "onBjyzjJBsmn"
      },
      "outputs": [],
      "source": []
    },
    {
      "cell_type": "code",
      "execution_count": null,
      "metadata": {
        "colab": {
          "background_save": true
        },
        "id": "2cwB45bSx8ai",
        "outputId": "765feb11-0a20-424a-e04d-76345811fa31"
      },
      "outputs": [
        {
          "data": {
            "text/plain": [
              "array([[17.12091]], dtype=float32)"
            ]
          },
          "execution_count": 51,
          "metadata": {},
          "output_type": "execute_result"
        }
      ],
      "source": [
        "mape = []\n",
        "count = 0\n",
        "for i in range(len(pred1)):\n",
        "  if (Expected[i][0] > pred1[i]):\n",
        "    count+=1\n",
        "  per_err = (Expected[i][0] - pred1[i]) / pred1[i]\n",
        "  per_err = abs(per_err)\n",
        "  #print(Expected[i][0],pred[i],Expected[i][0]-pred[i], per_err)\n",
        "  mape.append(per_err)\n",
        "mape = list(mape)\n",
        "mape = sum(mape)/len(mape)\n",
        "mape"
      ]
    },
    {
      "cell_type": "code",
      "execution_count": null,
      "metadata": {
        "colab": {
          "background_save": true
        },
        "id": "M7mqpvdbwWWO"
      },
      "outputs": [],
      "source": [
        "def rmse1(pred, expected):\n",
        "  rmse = []\n",
        "\n",
        "  for i in range(len(pred)):\n",
        "    per_err = (Expected1[i][0] - pred[i])**2\n",
        "    rmse.append(per_err)\n",
        "  rmse = list(rmse)\n",
        "  rmse = (sum(rmse)/len(rmse))**0.5\n",
        "  return rmse"
      ]
    },
    {
      "cell_type": "code",
      "execution_count": null,
      "metadata": {
        "colab": {
          "background_save": true
        },
        "id": "Is0ifivLDEzq",
        "outputId": "295d0b6e-38c0-4e5a-9194-370c5c776f3c"
      },
      "outputs": [
        {
          "data": {
            "text/plain": [
              "0.279"
            ]
          },
          "execution_count": 53,
          "metadata": {},
          "output_type": "execute_result"
        }
      ],
      "source": [
        "predn1[0]*0.9"
      ]
    },
    {
      "cell_type": "code",
      "execution_count": null,
      "metadata": {
        "colab": {
          "background_save": true
        },
        "id": "SIJh63GPwWP5",
        "outputId": "0ab5bd9b-8fac-4057-c9d1-a64ae74adb7b"
      },
      "outputs": [
        {
          "name": "stdout",
          "output_type": "stream",
          "text": [
            "[0.553, 0.553, 0.553, 0.553, 0.553, 0.553, 0.553, 0.553, 0.553, 0.553, 0.553, 0.553, 0.554, 0.554, 0.554, 0.554, 0.554, 0.554, 0.554, 0.554, 0.554, 0.554, 0.554, 0.554, 0.554, 0.554, 0.555, 0.555, 0.555, 0.555, 0.555, 0.555, 0.555, 0.555, 0.555, 0.555, 0.556, 0.556, 0.556, 0.556, 0.556, 0.556, 0.556, 0.556, 0.556, 0.556, 0.556, 0.557, 0.557, 0.557, 0.557, 0.557, 0.557, 0.557, 0.557, 0.557, 0.557, 0.558, 0.558, 0.558, 0.558, 0.558, 0.558, 0.558, 0.559, 0.559, 0.559, 0.559, 0.559, 0.559, 0.56, 0.56, 0.56, 0.56, 0.56, 0.561, 0.561, 0.561, 0.561, 0.5700000000000001, 0.5700000000000001, 0.5700000000000001, 0.5700000000000001, 0.561, 0.561, 0.561, 0.562, 0.562, 0.5710000000000001, 0.5710000000000001, 0.5710000000000001, 0.5710000000000001, 0.5710000000000001, 0.5720000000000001, 0.5720000000000001, 0.5720000000000001, 0.5720000000000001, 0.5720000000000001, 0.5720000000000001, 0.5720000000000001, 0.5720000000000001, 0.5720000000000001, 0.5730000000000001, 0.5730000000000001, 0.5730000000000001, 0.5730000000000001, 0.5820000000000001, 0.5820000000000001, 0.5820000000000001, 0.5820000000000001, 0.5820000000000001, 0.5820000000000001, 0.5820000000000001, 0.5820000000000001, 0.5820000000000001, 0.5820000000000001, 0.5820000000000001, 0.5820000000000001, 0.5830000000000001, 0.5830000000000001, 0.5920000000000001, 0.5920000000000001, 0.5920000000000001, 0.5920000000000001, 0.5920000000000001, 0.5920000000000001, 0.5920000000000001, 0.5920000000000001, 0.6010000000000001, 0.6020000000000001, 0.6020000000000001, 0.6020000000000001, 0.6020000000000001, 0.6020000000000001, 0.6030000000000001, 0.6030000000000001, 0.6030000000000001, 0.6030000000000001, 0.6030000000000001, 0.6040000000000001, 0.6040000000000001, 0.6040000000000001, 0.6040000000000001, 0.6130000000000001, 0.6130000000000001, 0.6140000000000001, 0.6140000000000001, 0.6140000000000001, 0.6140000000000001, 0.6150000000000001, 0.6150000000000001, 0.6240000000000001, 0.6240000000000001, 0.6250000000000001, 0.6250000000000001, 0.6250000000000001, 0.6340000000000001, 0.6350000000000001, 0.6350000000000001, 0.6350000000000001, 0.6360000000000001, 0.6360000000000001, 0.6360000000000001, 0.6370000000000001, 0.6460000000000001, 0.6460000000000001, 0.6560000000000001, 0.6650000000000001, 0.675, 0.685, 0.685, 0.685, 0.6950000000000001, 0.6950000000000001, 0.696, 0.696, 0.7050000000000001, 0.706, 0.7150000000000001, 0.7250000000000001, 0.7250000000000001, 0.726, 0.726, 0.7270000000000001, 0.7270000000000001, 0.7270000000000001, 0.728, 0.728, 0.7370000000000001, 0.738, 0.7470000000000001, 0.7570000000000001, 0.758, 0.7670000000000001, 0.768, 0.7770000000000001, 0.7870000000000001, 0.7970000000000002, 0.806, 0.816, 0.835, 0.844, 0.845, 0.855, 0.855, 0.865, 0.865, 0.875, 0.885, 0.9040000000000001, 0.9219999999999999, 0.9410000000000001, 0.96, 0.97, 0.98, 0.9890000000000001, 0.9990000000000001, 1.018, 1.046, 1.066, 1.0940000000000003, 1.113, 1.142, 1.162, 1.163, 1.165, 1.149, 1.1420000000000001, 1.134, 1.154, 1.175, 1.195, 1.225, 1.2640000000000002, 1.312, 1.352, 1.3820000000000001, 1.403, 1.4060000000000001, 1.392, 1.377, 1.3889999999999998, 1.402, 1.423, 1.463, 1.5020000000000002, 1.5410000000000001, 1.589, 1.628, 1.658, 1.661, 1.654, 1.656, 1.6589999999999998, 1.67, 1.691, 1.7029999999999998, 1.732, 1.772, 1.82, 1.886, 1.925, 1.946, 1.9769999999999999, 2.008, 2.029, 2.0500000000000003, 2.071, 2.119, 2.1670000000000003, 2.224, 2.2889999999999997, 2.363, 2.438, 2.4939999999999998, 2.5420000000000003, 2.59, 2.62, 2.6580000000000004, 2.705, 2.7439999999999998, 2.782, 2.7939999999999996, 2.806, 2.8080000000000003, 2.784, 2.759, 2.7170000000000005, 2.665, 2.6130000000000004, 2.561, 2.519, 2.485, 2.47, 2.464, 2.4760000000000004, 2.488, 2.508, 2.5380000000000003, 2.5680000000000005, 2.607, 2.654, 2.7180000000000004, 2.782, 2.8449999999999998, 2.917, 2.971, 3.026, 3.08, 3.144, 3.209, 3.2920000000000003, 3.3850000000000007, 3.469, 3.5620000000000003, 3.6550000000000002, 3.749, 3.815, 3.873, 3.93, 3.9690000000000003, 3.989, 3.99, 4.001, 4.002, 4.013, 4.015000000000001, 4.035, 4.046, 4.057, 4.087, 4.099, 4.075, 4.008, 3.8790000000000004, 3.7060000000000004, 3.549, 3.401, 3.262, 3.14, 3.044, 2.965, 2.912, 2.8790000000000004, 2.854, 2.8290000000000006, 2.7950000000000004, 2.761, 2.728, 2.677, 2.608, 2.548, 2.506, 2.509, 2.58, 2.7420000000000004, 3.0060000000000002, 3.365, 3.806, 4.284, 4.7170000000000005, 5.035, 5.25, 5.3790000000000004, 5.457, 5.48, 5.460999999999999, 5.38, 5.255, 5.097, 4.929000000000001, 4.792, 4.744000000000001, 4.796, 4.9430000000000005, 5.199, 5.444000000000001, 5.638000000000001, 5.794, 5.868, 5.87, 5.819, 5.702, 5.537, 5.353000000000001, 5.142, 4.933, 4.756, 4.644, 4.595, 4.6160000000000005, 4.686, 4.790000000000001, 4.986000000000001, 5.259, 5.495, 5.675, 5.792, 5.865, 5.893, 5.889, 5.797, 5.631, 5.328000000000001, 5.049, 4.839, 4.662999999999999, 4.531, 4.443, 4.364, 4.221, 3.988, 3.734, 3.5950000000000006, 3.542, 3.5060000000000002, 3.404, 3.185, 2.9130000000000003, 2.681, 2.486, 2.318, 2.197, 2.066, 1.944, 1.899, 1.8610000000000002, 2.066, 2.647, 3.576, 4.154, 4.433, 4.4990000000000006, 4.388999999999999, 4.176, 3.8400000000000003, 3.539, 3.311, 3.138, 3.065, 3.043, 3.0620000000000003, 3.1580000000000004, 3.335, 3.603, 4.031, 4.659, 5.4159999999999995, 6.103, 6.537, 6.865, 7.146000000000001, 7.356999999999999, 7.477, 7.5, 7.433, 7.257000000000001, 7.050000000000001, 6.7989999999999995, 6.577, 6.406000000000001, 6.366, 6.438000000000001, 6.5169999999999995, 6.442, 5.979, 4.534, 3.0050000000000003, 2.492, 2.551, 4.047000000000001, 6.559, 7.1000000000000005, 7.2410000000000005, 7.329, 7.4, 7.442, 7.461, 7.407, 7.195, 6.143000000000001, 4.034, 2.2359999999999998, 1.581, 1.4340000000000002, 1.3940000000000001, 1.403, 1.3310000000000002, 1.2999999999999998, 1.3010000000000002, 1.3870000000000002, 1.842, 4.058, 5.008, 5.355, 5.529999999999999, 5.5649999999999995, 5.408000000000001, 4.966, 4.26, 3.619, 3.212, 3.211, 3.5380000000000003, 4.183, 4.836, 5.3740000000000006, 5.846, 6.129, 6.089, 5.756, 5.4830000000000005, 5.659000000000001, 6.22, 6.849, 7.211, 7.4510000000000005, 7.6000000000000005, 7.707, 7.772, 7.7940000000000005, 7.78, 7.752, 7.707, 7.675, 7.645, 7.618, 7.6, 7.602, 7.6, 7.589, 7.584, 7.583, 7.566, 7.641, 7.728000000000001, 7.799, 7.908, 7.991, 8.038, 8.073, 8.096, 8.089, 8.064, 8.026000000000002, 8.005, 7.992, 7.978999999999999, 7.952, 7.92, 7.902000000000001, 7.9, 7.894000000000001, 7.8790000000000004, 7.838000000000001, 7.774, 7.732, 7.721, 7.721, 7.723000000000001, 7.718, 7.691, 7.622000000000001, 7.619000000000001, 7.644, 7.675000000000001, 7.633, 7.556000000000001, 7.478, 7.405, 7.315, 7.234999999999999, 7.166, 7.1240000000000006, 7.13, 7.159, 7.221, 7.317, 7.511, 7.890000000000001, 8.020000000000001, 8.081, 8.13, 8.16, 8.18, 8.176, 8.153, 8.07, 7.917999999999999, 7.758, 7.6499999999999995, 7.548, 7.447, 7.333, 7.249, 7.185, 7.194, 7.233, 7.311, 7.341, 7.340000000000001, 7.3020000000000005, 7.257000000000001, 7.301, 7.353000000000001, 7.375, 7.437, 7.547999999999999, 7.65, 7.721000000000001, 7.728000000000001, 7.664000000000001, 7.525, 7.351, 7.26, 7.207000000000001, 7.126, 7.016000000000001, 6.8580000000000005, 6.569999999999999, 6.263, 5.897, 5.558, 5.316999999999999, 5.244, 5.162, 5.003, 4.853, 4.692, 4.348, 3.102, 2.178, 1.9210000000000003, 1.839, 1.8170000000000002, 1.835, 1.9530000000000003, 2.1750000000000003, 2.934, 4.524, 5.458, 5.795999999999999, 5.488, 4.531, 2.994, 2.453, 1.7240000000000002, 1.847, 1.871, 2.3970000000000002, 2.992, 1.9560000000000002, 1.4440000000000002, 1.218, 1.096, 1.03, 0.99, 0.992, 1.0800000000000003, 1.573, 2.3080000000000003, 4.513, 5.415, 6.149, 6.688000000000001, 7.087000000000001, 7.279, 7.394, 7.462000000000001, 7.484, 7.4670000000000005, 7.414, 7.341, 7.24, 7.106, 6.9030000000000005, 6.747000000000001, 6.674000000000001, 6.6499999999999995, 6.656, 6.7829999999999995, 7.0, 7.173, 7.266, 7.317, 7.372000000000001, 7.436999999999999, 7.511, 7.567, 7.599, 7.623, 7.644, 7.67, 7.683, 7.7, 7.707000000000001, 7.703, 7.680000000000001, 7.663, 7.613, 7.626, 7.672, 7.714, 7.734000000000001, 7.746, 7.756, 7.744000000000001, 7.737000000000001, 7.7090000000000005, 7.683, 7.649, 7.6080000000000005, 7.57, 7.526999999999999, 7.4879999999999995, 7.447, 7.388, 7.312, 7.214, 7.079000000000001, 6.901, 6.6579999999999995, 6.349, 5.9830000000000005, 5.578000000000001, 5.182, 4.747, 4.3950000000000005, 4.029, 3.692, 3.1140000000000003, 2.2430000000000003, 1.725, 1.5420000000000003, 1.4569999999999999, 1.388, 1.33, 1.2400000000000002, 1.1590000000000003, 1.088, 1.045, 1.044, 1.1540000000000001, 1.398, 1.68, 2.246, 2.809, 2.952, 3.082, 3.33, 4.312, 4.914000000000001, 5.355, 5.749, 6.081, 6.329000000000001, 6.463000000000001, 6.408, 6.037, 5.282000000000001, 4.122, 2.755, 1.989, 1.518, 1.226, 1.102, 1.025, 0.9720000000000001, 1.1440000000000001, 1.344, 1.518, 1.5130000000000001, 1.337, 1.229, 1.198, 1.283, 1.3230000000000002, 1.413, 1.4860000000000002, 1.526, 1.518, 1.435, 1.295, 1.127, 1.056, 1.044, 1.0550000000000002, 1.08, 1.1160000000000003, 1.2630000000000001, 0.674, 0.668, 0.674, 0.7120000000000001, 0.8170000000000001, 1.139, 2.8249999999999997, 6.557, 6.846, 6.895, 6.799, 6.663, 5.289000000000001, 2.99, 1.944, 2.99, 4.768, 5.268000000000001, 5.370000000000001, 5.3759999999999994, 5.379999999999999, 5.434, 5.491, 5.603, 5.715, 5.736000000000001, 5.694, 6.045, 6.718000000000001, 7.029, 7.15, 7.18, 7.129, 6.946, 6.651000000000001, 6.4430000000000005, 6.361000000000001, 6.166, 5.92, 5.744, 5.7490000000000006, 5.890000000000001, 6.066000000000001, 6.258, 6.383000000000001, 6.457000000000001, 6.620000000000001, 6.881, 7.130000000000001, 7.269, 7.328, 7.3500000000000005, 7.343000000000001, 7.305000000000001, 7.2330000000000005, 7.142, 7.032, 6.9, 6.723, 6.4719999999999995, 6.266, 6.105, 5.964, 5.826, 5.6899999999999995, 5.557, 5.388000000000001, 5.2059999999999995, 5.019, 4.96, 5.099, 5.1930000000000005, 5.322, 5.4430000000000005, 5.456, 5.378000000000001, 5.2700000000000005, 5.197, 5.2139999999999995, 5.393, 5.619, 5.5569999999999995, 5.307, 4.914, 4.564, 4.406999999999999, 4.441, 4.566, 4.753, 4.904, 5.043000000000001, 5.198, 4.976, 4.781000000000001, 4.765, 4.902, 5.146, 5.397, 5.618, 5.8580000000000005, 6.175000000000001, 6.333, 6.288, 6.157000000000001, 5.993, 5.79, 5.331, 4.941, 5.042000000000001, 5.2940000000000005, 5.466, 5.561, 5.481999999999999, 5.2059999999999995, 4.976000000000001, 4.807, 4.7010000000000005, 4.683, 4.587000000000001, 4.423, 4.300000000000001, 4.353000000000001, 4.322, 4.407, 4.5680000000000005, 4.795999999999999, 4.991, 5.1419999999999995, 5.183000000000001, 5.079, 4.837000000000001, 4.461, 4.046, 3.807, 3.838, 4.1000000000000005, 4.232, 4.089, 3.644, 3.0050000000000003, 2.3950000000000005, 2.0300000000000002, 1.889, 1.99, 2.29, 2.7220000000000004, 3.351, 4.007000000000001, 4.436999999999999, 4.681, 4.799, 4.838000000000001, 4.86, 4.856, 4.836, 4.787000000000001, 4.709, 4.616, 4.489000000000001, 4.3180000000000005, 4.103, 3.8710000000000004, 3.639, 3.387, 3.158, 2.963, 2.821, 2.757, 2.755, 2.81, 2.867, 2.9339999999999997, 2.966, 2.999, 3.083, 3.2600000000000002, 3.494, 3.661, 3.6780000000000004, 3.61, 3.527, 3.333, 3.162, 3.1670000000000003, 3.4210000000000003, 4.186, 5.1080000000000005, 5.461, 5.523000000000001, 5.429, 5.507, 5.797, 6.059, 5.928000000000001, 5.573, 5.166, 4.728, 4.393, 4.209, 4.13, 4.094, 4.072, 4.053000000000001, 4.013, 3.954, 3.8240000000000003, 3.684, 3.571, 3.524, 3.5980000000000003, 3.867, 4.272, 4.633, 4.865, 4.841, 4.764, 4.562, 4.333, 4.191, 4.170999999999999, 4.223999999999999, 4.319999999999999, 4.319, 4.287999999999999, 4.293, 4.17, 3.886, 3.597, 3.402, 3.2860000000000005, 3.24, 3.274, 3.4459999999999997, 3.782, 4.209, 4.476, 4.388, 4.166, 3.8110000000000004, 3.417, 3.1, 2.8840000000000003, 2.7409999999999997, 2.4370000000000003, 1.913, 1.465, 1.2360000000000002, 1.231, 1.306, 1.436, 1.5639999999999998, 1.809, 2.099, 2.317, 2.392, 2.281, 2.094, 1.876, 1.7149999999999999, 1.566, 1.429, 1.3290000000000002, 1.2770000000000001, 1.268, 1.2650000000000001, 1.2240000000000002, 1.157, 1.0670000000000002, 1.049, 1.069, 1.041, 0.9630000000000001, 0.7070000000000001, 0.653, 0.637, 0.63, 0.631, 0.637, 0.632, 0.626, 0.619, 0.613, 0.607, 0.601, 0.594, 0.587, 0.5780000000000001, 0.5700000000000001, 0.5640000000000001, 0.562, 0.5640000000000001, 0.5690000000000001, 0.5750000000000001, 0.5820000000000001, 0.589, 0.592, 0.592, 0.5900000000000001, 0.5860000000000001, 0.583, 0.5800000000000001, 0.5780000000000001, 0.5750000000000001, 0.5710000000000001, 0.5670000000000001, 0.5630000000000001, 0.558, 0.553, 0.549, 0.546, 0.545, 0.546, 0.547, 0.547, 0.545, 0.541, 0.535, 0.528, 0.521, 0.515, 0.509, 0.506, 0.505, 0.506, 0.511, 0.519, 0.53, 0.545, 0.556, 0.5750000000000001, 0.594, 0.611, 0.622, 0.626, 0.627, 0.625, 0.619, 0.61, 0.603, 0.6020000000000001, 0.601, 0.599, 0.595, 0.5900000000000001, 0.5880000000000001, 0.5880000000000001, 0.587, 0.587, 0.587, 0.5860000000000001, 0.5860000000000001, 0.5860000000000001, 0.5860000000000001, 0.585, 0.585, 0.585, 0.585, 0.5840000000000001, 0.5840000000000001, 0.583, 0.583, 0.5820000000000001, 0.581, 0.5800000000000001, 0.5800000000000001, 0.579, 0.5780000000000001, 0.5770000000000001, 0.5760000000000001, 0.5740000000000001, 0.5730000000000001, 0.5720000000000001, 0.5710000000000001, 0.5700000000000001, 0.5690000000000001, 0.5690000000000001, 0.5680000000000001, 0.5670000000000001, 0.5660000000000001, 0.5650000000000001, 0.5640000000000001, 0.5640000000000001, 0.5630000000000001, 0.562, 0.561, 0.561, 0.56, 0.56, 0.559, 0.559, 0.558, 0.558, 0.557, 0.557, 0.557, 0.556, 0.556, 0.556, 0.555, 0.555, 0.555, 0.555, 0.554, 0.554, 0.554, 0.554, 0.554, 0.554, 0.554, 0.554, 0.554, 0.554, 0.554, 0.554, 0.554, 0.554, 0.554, 0.554, 0.555, 0.555, 0.555, 0.555, 0.555, 0.555, 0.555, 0.555, 0.555, 0.555, 0.555, 0.555, 0.555, 0.555, 0.555, 0.555, 0.555, 0.555, 0.555, 0.555, 0.554, 0.554, 0.554, 0.554, 0.554, 0.554, 0.554, 0.554, 0.554, 0.554, 0.553, 0.553, 0.553, 0.553, 0.553, 0.553, 0.553, 0.553, 0.553, 0.553, 0.553, 0.553, 0.553, 0.553, 0.553, 0.552, 0.552, 0.552, 0.552, 0.552, 0.552, 0.552, 0.552, 0.552, 0.552, 0.552, 0.552, 0.552, 0.552, 0.552, 0.552, 0.552, 0.552, 0.552, 0.552, 0.552, 0.552, 0.552, 0.552, 0.552, 0.552, 0.552, 0.552, 0.552, 0.552, 0.552, 0.552, 0.552, 0.552, 0.552, 0.552, 0.552, 0.552, 0.552, 0.552, 0.552, 0.552, 0.552, 0.552, 0.552, 0.552, 0.552, 0.552, 0.552, 0.552, 0.552, 0.552, 0.552, 0.552, 0.552, 0.552, 0.552, 0.552, 0.552, 0.552, 0.552, 0.552, 0.552, 0.552, 0.552, 0.552, 0.552, 0.552, 0.552, 0.552, 0.552, 0.552, 0.552, 0.552, 0.552, 0.552, 0.552, 0.552, 0.551, 0.551, 0.551, 0.551, 0.551, 0.551, 0.551, 0.551, 0.551, 0.551, 0.551, 0.551, 0.551, 0.551, 0.551, 0.551, 0.551, 0.551, 0.551, 0.551, 0.551, 0.551, 0.551, 0.551, 0.551, 0.551, 0.551, 0.551, 0.551, 0.551, 0.551, 0.551, 0.551, 0.551, 0.551, 0.551, 0.551, 0.551, 0.551, 0.552, 0.552, 0.552, 0.552, 0.552, 0.552, 0.552, 0.552, 0.552, 0.552, 0.552, 0.552, 0.552, 0.552, 0.552, 0.552, 0.551, 0.551, 0.551, 0.551, 0.551, 0.551, 0.551, 0.551, 0.551, 0.551, 0.551, 0.551, 0.551, 0.551, 0.551, 0.551, 0.551, 0.551, 0.551, 0.551, 0.551, 0.551, 0.551, 0.551, 0.551, 0.551, 0.551, 0.551, 0.551, 0.551, 0.551, 0.551, 0.551, 0.551, 0.551, 0.551, 0.551, 0.551, 0.551, 0.551, 0.551, 0.551, 0.551, 0.551, 0.551, 0.551, 0.551, 0.551, 0.551, 0.551, 0.551, 0.551, 0.551, 0.551, 0.551, 0.551, 0.551, 0.551, 0.551, 0.551, 0.551, 0.551, 0.551, 0.551, 0.551, 0.551, 0.551, 0.551, 0.551, 0.551, 0.551, 0.551, 0.551, 0.551]\n"
          ]
        },
        {
          "data": {
            "text/plain": [
              "1.2185169953340047"
            ]
          },
          "execution_count": 54,
          "metadata": {},
          "output_type": "execute_result"
        }
      ],
      "source": [
        "ensemble = []\n",
        "for i in range(len(pred)):\n",
        "  ensemble.append((predn[i]*0.9+predn1[i]*0.1))\n",
        "print(ensemble)\n",
        "rmse1(ensemble,Expected1)\n"
      ]
    },
    {
      "cell_type": "code",
      "execution_count": null,
      "metadata": {
        "colab": {
          "background_save": true
        },
        "id": "WCwW7JjzwWLW",
        "outputId": "73deaefb-0661-4d7f-f2aa-bdf7f9af5b01"
      },
      "outputs": [
        {
          "data": {
            "image/png": "[encoded data removed]",
            "text/plain": [
              "<Figure size 864x288 with 1 Axes>"
            ]
          },
          "metadata": {},
          "output_type": "display_data"
        }
      ],
      "source": [
        "plt.figure(figsize=(12,4))\n",
        "#\n",
        "plt.plot( list(Expected1))\n",
        "plt.plot(ensemble)\n",
        "#plt.plot(pred1)\n",
        "plt.title(\"Generation vs Time of day from 6:00:30 to 19:00:00 (s)\")\n",
        "plt.ylabel(\"Generation (W)\")\n",
        "plt.xlabel(\"Time of day from 6:00:30 to 19:00:00 (s)\")\n",
        "plt.legend(('Measured generation','Predicted generation'))\n",
        "plt.show()"
      ]
    },
    {
      "cell_type": "code",
      "execution_count": null,
      "metadata": {
        "colab": {
          "background_save": true
        },
        "id": "99VjHEMxprqB",
        "outputId": "4ee3b63f-213d-42c1-e528-da84cc0b3868"
      },
      "outputs": [
        {
          "name": "stdout",
          "output_type": "stream",
          "text": [
            "[0, 1, 2, 3, 4, 5, 6, 7, 8, 9, 10, 11, 12, 13, 14, 15, 16, 17, 18, 19, 20, 21, 22, 23, 24, 25, 26, 27, 28, 29, 30, 31, 32, 33, 34, 35, 36, 37, 38, 39, 40, 41, 42, 43, 44, 45, 46, 47, 48, 49, 50, 51, 52, 53, 54, 55, 56, 57, 58, 59, 60, 61, 62, 63, 64, 65, 66, 67, 68, 69, 70, 71, 72, 73, 74, 75, 76, 77, 78, 79, 80, 81, 82, 83, 84, 85, 86, 87, 88, 89, 90, 91, 92, 93, 94, 95, 96, 97, 98, 99]\n"
          ]
        }
      ],
      "source": [
        "weights_list = list(range(0,100,1))\n",
        "print(weights_list)"
      ]
    },
    {
      "cell_type": "code",
      "execution_count": null,
      "metadata": {
        "colab": {
          "background_save": true
        },
        "id": "j39rR358wWGG"
      },
      "outputs": [],
      "source": [
        "\n",
        "ensemble = []\n",
        "RMSE = []\n",
        "for weight in weights_list:\n",
        "  weight = weight/100\n",
        "  ensemble_new=[]\n",
        "  for i in range(len(pred)):\n",
        "    ensemble_new.append((predn[i]*(1-weight)+predn1[i]*weight))\n",
        "\n",
        "\n",
        "  RMSE.append(rmse1(ensemble_new,Expected1))\n",
        "  ensemble.append(ensemble_new)"
      ]
    },
    {
      "cell_type": "code",
      "execution_count": null,
      "metadata": {
        "colab": {
          "background_save": true
        },
        "id": "nuC1AQHewV2v",
        "outputId": "7e2fc8bd-af33-4765-d100-e731cb727bc1"
      },
      "outputs": [
        {
          "data": {
            "text/plain": [
              "[0.58,\n",
              " 0.58,\n",
              " 0.58,\n",
              " 0.58,\n",
              " 0.58,\n",
              " 0.58,\n",
              " 0.58,\n",
              " 0.58,\n",
              " 0.58,\n",
              " 0.58,\n",
              " 0.58,\n",
              " 0.58,\n",
              " 0.58,\n",
              " 0.58,\n",
              " 0.58,\n",
              " 0.58,\n",
              " 0.58,\n",
              " 0.58,\n",
              " 0.58,\n",
              " 0.58,\n",
              " 0.58,\n",
              " 0.58,\n",
              " 0.58,\n",
              " 0.58,\n",
              " 0.58,\n",
              " 0.58,\n",
              " 0.58,\n",
              " 0.58,\n",
              " 0.58,\n",
              " 0.58,\n",
              " 0.58,\n",
              " 0.58,\n",
              " 0.58,\n",
              " 0.58,\n",
              " 0.58,\n",
              " 0.58,\n",
              " 0.58,\n",
              " 0.58,\n",
              " 0.58,\n",
              " 0.58,\n",
              " 0.58,\n",
              " 0.58,\n",
              " 0.58,\n",
              " 0.58,\n",
              " 0.58,\n",
              " 0.58,\n",
              " 0.58,\n",
              " 0.58,\n",
              " 0.58,\n",
              " 0.58,\n",
              " 0.58,\n",
              " 0.58,\n",
              " 0.58,\n",
              " 0.58,\n",
              " 0.58,\n",
              " 0.58,\n",
              " 0.58,\n",
              " 0.58,\n",
              " 0.58,\n",
              " 0.58,\n",
              " 0.58,\n",
              " 0.58,\n",
              " 0.58,\n",
              " 0.58,\n",
              " 0.58,\n",
              " 0.58,\n",
              " 0.58,\n",
              " 0.58,\n",
              " 0.58,\n",
              " 0.58,\n",
              " 0.58,\n",
              " 0.58,\n",
              " 0.58,\n",
              " 0.58,\n",
              " 0.58,\n",
              " 0.58,\n",
              " 0.58,\n",
              " 0.58,\n",
              " 0.58,\n",
              " 0.59,\n",
              " 0.59,\n",
              " 0.59,\n",
              " 0.59,\n",
              " 0.58,\n",
              " 0.58,\n",
              " 0.58,\n",
              " 0.58,\n",
              " 0.58,\n",
              " 0.59,\n",
              " 0.59,\n",
              " 0.59,\n",
              " 0.59,\n",
              " 0.59,\n",
              " 0.59,\n",
              " 0.59,\n",
              " 0.59,\n",
              " 0.59,\n",
              " 0.59,\n",
              " 0.59,\n",
              " 0.59,\n",
              " 0.59,\n",
              " 0.59,\n",
              " 0.59,\n",
              " 0.59,\n",
              " 0.59,\n",
              " 0.59,\n",
              " 0.6,\n",
              " 0.6,\n",
              " 0.6,\n",
              " 0.6,\n",
              " 0.6,\n",
              " 0.6,\n",
              " 0.6,\n",
              " 0.6,\n",
              " 0.6,\n",
              " 0.6,\n",
              " 0.6,\n",
              " 0.6,\n",
              " 0.6,\n",
              " 0.6,\n",
              " 0.61,\n",
              " 0.61,\n",
              " 0.61,\n",
              " 0.61,\n",
              " 0.61,\n",
              " 0.61,\n",
              " 0.61,\n",
              " 0.61,\n",
              " 0.62,\n",
              " 0.62,\n",
              " 0.62,\n",
              " 0.62,\n",
              " 0.62,\n",
              " 0.62,\n",
              " 0.62,\n",
              " 0.62,\n",
              " 0.62,\n",
              " 0.62,\n",
              " 0.62,\n",
              " 0.62,\n",
              " 0.62,\n",
              " 0.62,\n",
              " 0.62,\n",
              " 0.63,\n",
              " 0.63,\n",
              " 0.63,\n",
              " 0.63,\n",
              " 0.63,\n",
              " 0.63,\n",
              " 0.63,\n",
              " 0.63,\n",
              " 0.64,\n",
              " 0.64,\n",
              " 0.64,\n",
              " 0.64,\n",
              " 0.64,\n",
              " 0.65,\n",
              " 0.65,\n",
              " 0.65,\n",
              " 0.65,\n",
              " 0.65,\n",
              " 0.65,\n",
              " 0.65,\n",
              " 0.65,\n",
              " 0.66,\n",
              " 0.66,\n",
              " 0.67,\n",
              " 0.68,\n",
              " 0.69,\n",
              " 0.7,\n",
              " 0.7,\n",
              " 0.7,\n",
              " 0.71,\n",
              " 0.71,\n",
              " 0.71,\n",
              " 0.71,\n",
              " 0.72,\n",
              " 0.72,\n",
              " 0.73,\n",
              " 0.74,\n",
              " 0.74,\n",
              " 0.74,\n",
              " 0.74,\n",
              " 0.74,\n",
              " 0.74,\n",
              " 0.74,\n",
              " 0.74,\n",
              " 0.74,\n",
              " 0.75,\n",
              " 0.75,\n",
              " 0.76,\n",
              " 0.77,\n",
              " 0.77,\n",
              " 0.78,\n",
              " 0.78,\n",
              " 0.79,\n",
              " 0.8,\n",
              " 0.81,\n",
              " 0.82,\n",
              " 0.83,\n",
              " 0.85,\n",
              " 0.86,\n",
              " 0.86,\n",
              " 0.87,\n",
              " 0.87,\n",
              " 0.88,\n",
              " 0.88,\n",
              " 0.89,\n",
              " 0.9,\n",
              " 0.92,\n",
              " 0.94,\n",
              " 0.96,\n",
              " 0.98,\n",
              " 0.99,\n",
              " 1.0,\n",
              " 1.01,\n",
              " 1.02,\n",
              " 1.04,\n",
              " 1.07,\n",
              " 1.09,\n",
              " 1.12,\n",
              " 1.14,\n",
              " 1.17,\n",
              " 1.19,\n",
              " 1.19,\n",
              " 1.19,\n",
              " 1.17,\n",
              " 1.16,\n",
              " 1.15,\n",
              " 1.17,\n",
              " 1.19,\n",
              " 1.21,\n",
              " 1.24,\n",
              " 1.28,\n",
              " 1.33,\n",
              " 1.37,\n",
              " 1.4,\n",
              " 1.42,\n",
              " 1.42,\n",
              " 1.4,\n",
              " 1.38,\n",
              " 1.39,\n",
              " 1.4,\n",
              " 1.42,\n",
              " 1.46,\n",
              " 1.5,\n",
              " 1.54,\n",
              " 1.59,\n",
              " 1.63,\n",
              " 1.66,\n",
              " 1.66,\n",
              " 1.65,\n",
              " 1.65,\n",
              " 1.65,\n",
              " 1.66,\n",
              " 1.68,\n",
              " 1.69,\n",
              " 1.72,\n",
              " 1.76,\n",
              " 1.81,\n",
              " 1.88,\n",
              " 1.92,\n",
              " 1.94,\n",
              " 1.97,\n",
              " 2.0,\n",
              " 2.02,\n",
              " 2.04,\n",
              " 2.06,\n",
              " 2.11,\n",
              " 2.16,\n",
              " 2.22,\n",
              " 2.29,\n",
              " 2.37,\n",
              " 2.45,\n",
              " 2.51,\n",
              " 2.56,\n",
              " 2.61,\n",
              " 2.64,\n",
              " 2.68,\n",
              " 2.73,\n",
              " 2.77,\n",
              " 2.81,\n",
              " 2.82,\n",
              " 2.83,\n",
              " 2.83,\n",
              " 2.8,\n",
              " 2.77,\n",
              " 2.72,\n",
              " 2.66,\n",
              " 2.6,\n",
              " 2.54,\n",
              " 2.49,\n",
              " 2.45,\n",
              " 2.43,\n",
              " 2.42,\n",
              " 2.43,\n",
              " 2.44,\n",
              " 2.46,\n",
              " 2.49,\n",
              " 2.52,\n",
              " 2.56,\n",
              " 2.61,\n",
              " 2.68,\n",
              " 2.75,\n",
              " 2.82,\n",
              " 2.9,\n",
              " 2.96,\n",
              " 3.02,\n",
              " 3.08,\n",
              " 3.15,\n",
              " 3.22,\n",
              " 3.31,\n",
              " 3.41,\n",
              " 3.5,\n",
              " 3.6,\n",
              " 3.7,\n",
              " 3.8,\n",
              " 3.87,\n",
              " 3.93,\n",
              " 3.99,\n",
              " 4.03,\n",
              " 4.05,\n",
              " 4.05,\n",
              " 4.06,\n",
              " 4.06,\n",
              " 4.07,\n",
              " 4.07,\n",
              " 4.09,\n",
              " 4.1,\n",
              " 4.11,\n",
              " 4.14,\n",
              " 4.15,\n",
              " 4.12,\n",
              " 4.04,\n",
              " 3.89,\n",
              " 3.69,\n",
              " 3.51,\n",
              " 3.34,\n",
              " 3.18,\n",
              " 3.04,\n",
              " 2.93,\n",
              " 2.84,\n",
              " 2.78,\n",
              " 2.74,\n",
              " 2.71,\n",
              " 2.68,\n",
              " 2.64,\n",
              " 2.6,\n",
              " 2.56,\n",
              " 2.5,\n",
              " 2.42,\n",
              " 2.35,\n",
              " 2.3,\n",
              " 2.3,\n",
              " 2.38,\n",
              " 2.56,\n",
              " 2.85,\n",
              " 3.25,\n",
              " 3.74,\n",
              " 4.27,\n",
              " 4.77,\n",
              " 5.19,\n",
              " 5.48,\n",
              " 5.66,\n",
              " 5.77,\n",
              " 5.81,\n",
              " 5.8,\n",
              " 5.72,\n",
              " 5.59,\n",
              " 5.42,\n",
              " 5.23,\n",
              " 5.06,\n",
              " 4.96,\n",
              " 4.97,\n",
              " 5.07,\n",
              " 5.24,\n",
              " 5.44,\n",
              " 5.65,\n",
              " 5.8,\n",
              " 5.87,\n",
              " 5.86,\n",
              " 5.81,\n",
              " 5.69,\n",
              " 5.52,\n",
              " 5.33,\n",
              " 5.11,\n",
              " 4.89,\n",
              " 4.7,\n",
              " 4.58,\n",
              " 4.53,\n",
              " 4.57,\n",
              " 4.68,\n",
              " 4.86,\n",
              " 5.11,\n",
              " 5.39,\n",
              " 5.63,\n",
              " 5.81,\n",
              " 5.92,\n",
              " 5.98,\n",
              " 6.01,\n",
              " 6.0,\n",
              " 5.91,\n",
              " 5.71,\n",
              " 5.36,\n",
              " 5.04,\n",
              " 4.8,\n",
              " 4.6,\n",
              " 4.45,\n",
              " 4.35,\n",
              " 4.26,\n",
              " 4.1,\n",
              " 3.84,\n",
              " 3.56,\n",
              " 3.41,\n",
              " 3.36,\n",
              " 3.33,\n",
              " 3.23,\n",
              " 3.01,\n",
              " 2.74,\n",
              " 2.51,\n",
              " 2.32,\n",
              " 2.16,\n",
              " 2.05,\n",
              " 1.92,\n",
              " 1.79,\n",
              " 1.73,\n",
              " 1.74,\n",
              " 1.99,\n",
              " 2.65,\n",
              " 3.65,\n",
              " 4.26,\n",
              " 4.53,\n",
              " 4.57,\n",
              " 4.43,\n",
              " 4.2,\n",
              " 3.89,\n",
              " 3.56,\n",
              " 3.28,\n",
              " 3.09,\n",
              " 3.02,\n",
              " 3.02,\n",
              " 3.06,\n",
              " 3.17,\n",
              " 3.36,\n",
              " 3.64,\n",
              " 4.09,\n",
              " 4.76,\n",
              " 5.56,\n",
              " 6.27,\n",
              " 6.71,\n",
              " 7.01,\n",
              " 7.23,\n",
              " 7.39,\n",
              " 7.5,\n",
              " 7.53,\n",
              " 7.45,\n",
              " 7.3,\n",
              " 7.12,\n",
              " 6.87,\n",
              " 6.65,\n",
              " 6.45,\n",
              " 6.39,\n",
              " 6.45,\n",
              " 6.52,\n",
              " 6.42,\n",
              " 5.89,\n",
              " 4.27,\n",
              " 2.56,\n",
              " 1.99,\n",
              " 2.06,\n",
              " 3.74,\n",
              " 6.56,\n",
              " 7.2,\n",
              " 7.38,\n",
              " 7.47,\n",
              " 7.54,\n",
              " 7.58,\n",
              " 7.6,\n",
              " 7.55,\n",
              " 7.33,\n",
              " 6.18,\n",
              " 3.92,\n",
              " 1.96,\n",
              " 1.25,\n",
              " 1.09,\n",
              " 1.06,\n",
              " 1.09,\n",
              " 1.11,\n",
              " 1.15,\n",
              " 1.2,\n",
              " 1.32,\n",
              " 1.82,\n",
              " 4.2,\n",
              " 5.18,\n",
              " 5.5,\n",
              " 5.64,\n",
              " 5.64,\n",
              " 5.44,\n",
              " 4.93,\n",
              " 4.13,\n",
              " 3.4,\n",
              " 2.95,\n",
              " 2.98,\n",
              " 3.35,\n",
              " 4.05,\n",
              " 4.74,\n",
              " 5.32,\n",
              " 5.83,\n",
              " 6.14,\n",
              " 6.1,\n",
              " 5.74,\n",
              " 5.45,\n",
              " 5.66,\n",
              " 6.3,\n",
              " 6.93,\n",
              " 7.25,\n",
              " 7.43,\n",
              " 7.54,\n",
              " 7.63,\n",
              " 7.69,\n",
              " 7.7,\n",
              " 7.67,\n",
              " 7.63,\n",
              " 7.58,\n",
              " 7.55,\n",
              " 7.52,\n",
              " 7.49,\n",
              " 7.47,\n",
              " 7.48,\n",
              " 7.5,\n",
              " 7.52,\n",
              " 7.55,\n",
              " 7.58,\n",
              " 7.58,\n",
              " 7.66,\n",
              " 7.73,\n",
              " 7.79,\n",
              " 7.87,\n",
              " 7.93,\n",
              " 7.97,\n",
              " 8.01,\n",
              " 8.05,\n",
              " 8.07,\n",
              " 8.08,\n",
              " 8.07,\n",
              " 8.06,\n",
              " 8.04,\n",
              " 8.01,\n",
              " 7.97,\n",
              " 7.93,\n",
              " 7.91,\n",
              " 7.91,\n",
              " 7.91,\n",
              " 7.9,\n",
              " 7.86,\n",
              " 7.79,\n",
              " 7.74,\n",
              " 7.72,\n",
              " 7.71,\n",
              " 7.7,\n",
              " 7.69,\n",
              " 7.66,\n",
              " 7.62,\n",
              " 7.59,\n",
              " 7.58,\n",
              " 7.59,\n",
              " 7.55,\n",
              " 7.46,\n",
              " 7.37,\n",
              " 7.29,\n",
              " 7.2,\n",
              " 7.13,\n",
              " 7.07,\n",
              " 7.04,\n",
              " 7.06,\n",
              " 7.1,\n",
              " 7.17,\n",
              " 7.27,\n",
              " 7.47,\n",
              " 7.87,\n",
              " 7.99,\n",
              " 8.04,\n",
              " 8.08,\n",
              " 8.1,\n",
              " 8.11,\n",
              " 8.1,\n",
              " 8.08,\n",
              " 8.01,\n",
              " 7.88,\n",
              " 7.74,\n",
              " 7.64,\n",
              " 7.54,\n",
              " 7.45,\n",
              " 7.36,\n",
              " 7.29,\n",
              " 7.21,\n",
              " 7.16,\n",
              " 7.13,\n",
              " 7.16,\n",
              " 7.2,\n",
              " 7.25,\n",
              " 7.28,\n",
              " 7.3,\n",
              " 7.4,\n",
              " 7.49,\n",
              " 7.53,\n",
              " 7.58,\n",
              " 7.64,\n",
              " 7.68,\n",
              " 7.7,\n",
              " 7.69,\n",
              " 7.67,\n",
              " 7.63,\n",
              " 7.58,\n",
              " 7.53,\n",
              " 7.46,\n",
              " 7.36,\n",
              " 7.23,\n",
              " 7.06,\n",
              " 6.81,\n",
              " 6.49,\n",
              " 6.08,\n",
              " 5.7,\n",
              " 5.43,\n",
              " 5.34,\n",
              " 5.24,\n",
              " 5.05,\n",
              " 4.87,\n",
              " 4.68,\n",
              " 4.29,\n",
              " 2.9,\n",
              " 1.87,\n",
              " 1.58,\n",
              " 1.48,\n",
              " 1.44,\n",
              " 1.44,\n",
              " 1.54,\n",
              " 1.8,\n",
              " 2.64,\n",
              " 4.37,\n",
              " 5.4,\n",
              " 5.8,\n",
              " 5.58,\n",
              " 4.6,\n",
              " 2.95,\n",
              " 2.33,\n",
              " 1.6,\n",
              " 1.72,\n",
              " 1.78,\n",
              " 2.33,\n",
              " 2.96,\n",
              " 1.82,\n",
              " 1.33,\n",
              " 1.14,\n",
              " 1.05,\n",
              " 1.01,\n",
              " 0.99,\n",
              " 1.01,\n",
              " 1.12,\n",
              " 1.61,\n",
              " 2.27,\n",
              " 4.56,\n",
              " 5.45,\n",
              " 6.2,\n",
              " 6.78,\n",
              " 7.2,\n",
              " 7.39,\n",
              " 7.5,\n",
              " 7.57,\n",
              " 7.59,\n",
              " 7.57,\n",
              " 7.52,\n",
              " 7.45,\n",
              " 7.35,\n",
              " 7.21,\n",
              " 6.99,\n",
              " 6.82,\n",
              " 6.74,\n",
              " 6.71,\n",
              " 6.71,\n",
              " 6.84,\n",
              " 7.07,\n",
              " 7.26,\n",
              " 7.37,\n",
              " 7.43,\n",
              " 7.49,\n",
              " 7.56,\n",
              " 7.63,\n",
              " 7.67,\n",
              " 7.68,\n",
              " 7.68,\n",
              " 7.68,\n",
              " 7.69,\n",
              " 7.69,\n",
              " 7.68,\n",
              " 7.66,\n",
              " 7.63,\n",
              " 7.59,\n",
              " 7.58,\n",
              " 7.57,\n",
              " 7.58,\n",
              " 7.6,\n",
              " 7.63,\n",
              " 7.65,\n",
              " 7.67,\n",
              " 7.69,\n",
              " 7.69,\n",
              " 7.7,\n",
              " 7.69,\n",
              " 7.68,\n",
              " 7.66,\n",
              " 7.63,\n",
              " 7.6,\n",
              " 7.56,\n",
              " 7.52,\n",
              " 7.47,\n",
              " 7.4,\n",
              " 7.32,\n",
              " 7.22,\n",
              " 7.07,\n",
              " 6.87,\n",
              " 6.6,\n",
              " 6.27,\n",
              " 5.89,\n",
              " 5.49,\n",
              " 5.09,\n",
              " 4.69,\n",
              " 4.36,\n",
              " 4.04,\n",
              " 3.72,\n",
              " 3.13,\n",
              " 2.22,\n",
              " 1.7,\n",
              " 1.54,\n",
              " 1.47,\n",
              " 1.39,\n",
              " 1.31,\n",
              " 1.2,\n",
              " 1.12,\n",
              " 1.06,\n",
              " 1.0,\n",
              " 0.95,\n",
              " 1.01,\n",
              " 1.21,\n",
              " 1.49,\n",
              " 2.08,\n",
              " 2.67,\n",
              " 2.82,\n",
              " 2.93,\n",
              " 3.15,\n",
              " 4.14,\n",
              " 4.75,\n",
              " 5.21,\n",
              " 5.62,\n",
              " 5.97,\n",
              " 6.24,\n",
              " 6.4,\n",
              " 6.37,\n",
              " 6.01,\n",
              " 5.25,\n",
              " 4.07,\n",
              " 2.67,\n",
              " 1.84,\n",
              " 1.42,\n",
              " 1.2,\n",
              " 1.06,\n",
              " 0.96,\n",
              " 0.9,\n",
              " 1.04,\n",
              " 1.25,\n",
              " 1.38,\n",
              " 1.33,\n",
              " 1.15,\n",
              " 0.98,\n",
              " 0.91,\n",
              " 0.99,\n",
              " 1.09,\n",
              " 1.16,\n",
              " 1.22,\n",
              " 1.25,\n",
              " 1.24,\n",
              " 1.24,\n",
              " 1.16,\n",
              " 1.03,\n",
              " 0.99,\n",
              " 1.0,\n",
              " 1.03,\n",
              " 1.07,\n",
              " 1.12,\n",
              " 1.29,\n",
              " 0.64,\n",
              " 0.63,\n",
              " 0.62,\n",
              " 0.63,\n",
              " 0.7,\n",
              " 1.0,\n",
              " 2.81,\n",
              " 6.91,\n",
              " 7.19,\n",
              " 7.21,\n",
              " 7.07,\n",
              " 6.86,\n",
              " 5.32,\n",
              " 2.75,\n",
              " 1.57,\n",
              " 2.71,\n",
              " 4.66,\n",
              " 5.19,\n",
              " 5.28,\n",
              " 5.27,\n",
              " 5.27,\n",
              " 5.34,\n",
              " 5.42,\n",
              " 5.56,\n",
              " 5.7,\n",
              " 5.74,\n",
              " 5.71,\n",
              " 6.1,\n",
              " 6.74,\n",
              " 7.02,\n",
              " 7.13,\n",
              " 7.16,\n",
              " 7.11,\n",
              " 6.93,\n",
              " 6.61,\n",
              " 6.36,\n",
              " 6.24,\n",
              " 6.02,\n",
              " 5.76,\n",
              " 5.58,\n",
              " 5.6,\n",
              " 5.76,\n",
              " 5.97,\n",
              " 6.18,\n",
              " 6.32,\n",
              " 6.4,\n",
              " 6.58,\n",
              " 6.87,\n",
              " 7.15,\n",
              " 7.31,\n",
              " 7.38,\n",
              " 7.41,\n",
              " 7.41,\n",
              " 7.38,\n",
              " 7.32,\n",
              " 7.25,\n",
              " 7.16,\n",
              " 7.03,\n",
              " 6.81,\n",
              " 6.52,\n",
              " 6.28,\n",
              " 6.1,\n",
              " 5.96,\n",
              " 5.83,\n",
              " 5.7,\n",
              " 5.57,\n",
              " 5.41,\n",
              " 5.22,\n",
              " 5.01,\n",
              " 4.93,\n",
              " 5.07,\n",
              " 5.17,\n",
              " 5.31,\n",
              " 5.44,\n",
              " 5.45,\n",
              " 5.36,\n",
              " 5.24,\n",
              " 5.16,\n",
              " 5.18,\n",
              " 5.38,\n",
              " 5.63,\n",
              " 5.56,\n",
              " 5.28,\n",
              " 4.84,\n",
              " 4.45,\n",
              " 4.27,\n",
              " 4.3,\n",
              " 4.43,\n",
              " 4.63,\n",
              " 4.79,\n",
              " 4.94,\n",
              " 5.1,\n",
              " 4.84,\n",
              " 4.61,\n",
              " 4.58,\n",
              " 4.72,\n",
              " 4.98,\n",
              " 5.25,\n",
              " 5.49,\n",
              " 5.76,\n",
              " 6.13,\n",
              " 6.34,\n",
              " 6.34,\n",
              " 6.24,\n",
              " 6.08,\n",
              " 5.86,\n",
              " 5.36,\n",
              " 4.95,\n",
              " 5.07,\n",
              " 5.33,\n",
              " 5.48,\n",
              " 5.54,\n",
              " 5.43,\n",
              " 5.14,\n",
              " 4.91,\n",
              " 4.75,\n",
              " 4.64,\n",
              " 4.58,\n",
              " 4.46,\n",
              " 4.29,\n",
              " 4.24,\n",
              " 4.36,\n",
              " 4.37,\n",
              " 4.46,\n",
              " 4.64,\n",
              " 4.89,\n",
              " 5.13,\n",
              " 5.35,\n",
              " 5.44,\n",
              " 5.35,\n",
              " 5.07,\n",
              " 4.62,\n",
              " 4.13,\n",
              " 3.84,\n",
              " 3.85,\n",
              " 4.12,\n",
              " 4.25,\n",
              " 4.08,\n",
              " 3.58,\n",
              " 2.87,\n",
              " 2.2,\n",
              " 1.81,\n",
              " 1.7,\n",
              " 1.83,\n",
              " 2.16,\n",
              " 2.64,\n",
              " 3.34,\n",
              " 4.07,\n",
              " 4.55,\n",
              " 4.82,\n",
              " 4.95,\n",
              " 4.99,\n",
              " 5.01,\n",
              " 5.0,\n",
              " 4.97,\n",
              " 4.91,\n",
              " 4.84,\n",
              " 4.74,\n",
              " 4.62,\n",
              " 4.48,\n",
              " 4.29,\n",
              " 4.07,\n",
              " 3.84,\n",
              " 3.58,\n",
              " 3.34,\n",
              " 3.13,\n",
              " 2.97,\n",
              " 2.85,\n",
              " 2.77,\n",
              " 2.71,\n",
              " 2.66,\n",
              " 2.65,\n",
              " 2.63,\n",
              " 2.63,\n",
              " 2.7,\n",
              " 2.88,\n",
              " 3.13,\n",
              " 3.31,\n",
              " 3.33,\n",
              " 3.26,\n",
              " 3.18,\n",
              " 2.98,\n",
              " 2.81,\n",
              " 2.84,\n",
              " 3.15,\n",
              " 4.03,\n",
              " 5.08,\n",
              " 5.49,\n",
              " 5.57,\n",
              " 5.47,\n",
              " 5.55,\n",
              " 5.86,\n",
              " 6.15,\n",
              " 6.03,\n",
              " 5.66,\n",
              " 5.19,\n",
              " 4.69,\n",
              " 4.31,\n",
              " 4.1,\n",
              " 4.01,\n",
              " 3.97,\n",
              " 3.95,\n",
              " 3.93,\n",
              " 3.89,\n",
              " 3.84,\n",
              " 3.72,\n",
              " 3.61,\n",
              " 3.53,\n",
              " 3.51,\n",
              " 3.61,\n",
              " ...]"
            ]
          },
          "execution_count": 58,
          "metadata": {},
          "output_type": "execute_result"
        }
      ],
      "source": [
        "ensemble[0]\n"
      ]
    },
    {
      "cell_type": "code",
      "execution_count": null,
      "metadata": {
        "id": "J3H3s5PvqFnP"
      },
      "outputs": [],
      "source": [
        "count = 0\n",
        "for ensemble1 in ensemble:\n",
        "  plt.figure(figsize=(40,12))\n",
        "  #\n",
        "  plt.plot( list(Expected1))\n",
        "  plt.plot(ensemble1)\n",
        "  plt.plot(predn)\n",
        "  plt.plot(predn1)\n",
        "  plt.title(\"Generation vs Time of day from 6:00:30 to 19:00:00 (s)\")\n",
        "  plt.ylabel(\"Generation (W)\")\n",
        "  plt.xlabel(\"Time of day from 6:00:30 to 19:00:00 (s)\")\n",
        "  plt.legend(('Measured generation','Predicted generation - ensemble model', 'Predicted generation - sky imagery model', 'Predicted generation - satistical model'))\n",
        "  plt.show()\n",
        "  print(RMSE[count], weights_list[count]/100)\n",
        "  count +=1"
      ]
    },
    {
      "cell_type": "code",
      "execution_count": null,
      "metadata": {
        "colab": {
          "background_save": true
        },
        "id": "yui3xN5yyfB-"
      },
      "outputs": [],
      "source": [
        "weights_list = list(range(0,100,1))"
      ]
    },
    {
      "cell_type": "code",
      "execution_count": null,
      "metadata": {
        "colab": {
          "background_save": true
        },
        "id": "ZhUV1MzyrG42",
        "outputId": "3a8d826e-d428-4bbb-a9a3-1ff939be358e"
      },
      "outputs": [
        {
          "name": "stdout",
          "output_type": "stream",
          "text": [
            "100 100\n"
          ]
        },
        {
          "data": {
            "text/plain": [
              "[<matplotlib.lines.Line2D at 0x7f1df3ef3890>]"
            ]
          },
          "execution_count": 61,
          "metadata": {},
          "output_type": "execute_result"
        },
        {
          "data": {
            "image/png": "[encoded data removed]",
            "text/plain": [
              "<Figure size 432x288 with 1 Axes>"
            ]
          },
          "metadata": {},
          "output_type": "display_data"
        }
      ],
      "source": [
        "\n",
        "weights_list = list(map(lambda x: x/100,weights_list))\n",
        "print(len(weights_list),len(RMSE))\n",
        "plt.plot( weights_list,RMSE)\n",
        "# plt.plot()"
      ]
    },
    {
      "cell_type": "code",
      "execution_count": null,
      "metadata": {
        "colab": {
          "background_save": true
        },
        "id": "lAvIwLDBtZ1_",
        "outputId": "3faf7369-e477-4d2f-abe8-14163d8cc444"
      },
      "outputs": [
        {
          "data": {
            "text/plain": [
              "[0.0,\n",
              " 0.01,\n",
              " 0.02,\n",
              " 0.03,\n",
              " 0.04,\n",
              " 0.05,\n",
              " 0.06,\n",
              " 0.07,\n",
              " 0.08,\n",
              " 0.09,\n",
              " 0.1,\n",
              " 0.11,\n",
              " 0.12,\n",
              " 0.13,\n",
              " 0.14,\n",
              " 0.15,\n",
              " 0.16,\n",
              " 0.17,\n",
              " 0.18,\n",
              " 0.19,\n",
              " 0.2,\n",
              " 0.21,\n",
              " 0.22,\n",
              " 0.23,\n",
              " 0.24,\n",
              " 0.25,\n",
              " 0.26,\n",
              " 0.27,\n",
              " 0.28,\n",
              " 0.29,\n",
              " 0.3,\n",
              " 0.31,\n",
              " 0.32,\n",
              " 0.33,\n",
              " 0.34,\n",
              " 0.35,\n",
              " 0.36,\n",
              " 0.37,\n",
              " 0.38,\n",
              " 0.39,\n",
              " 0.4,\n",
              " 0.41,\n",
              " 0.42,\n",
              " 0.43,\n",
              " 0.44,\n",
              " 0.45,\n",
              " 0.46,\n",
              " 0.47,\n",
              " 0.48,\n",
              " 0.49,\n",
              " 0.5,\n",
              " 0.51,\n",
              " 0.52,\n",
              " 0.53,\n",
              " 0.54,\n",
              " 0.55,\n",
              " 0.56,\n",
              " 0.57,\n",
              " 0.58,\n",
              " 0.59,\n",
              " 0.6,\n",
              " 0.61,\n",
              " 0.62,\n",
              " 0.63,\n",
              " 0.64,\n",
              " 0.65,\n",
              " 0.66,\n",
              " 0.67,\n",
              " 0.68,\n",
              " 0.69,\n",
              " 0.7,\n",
              " 0.71,\n",
              " 0.72,\n",
              " 0.73,\n",
              " 0.74,\n",
              " 0.75,\n",
              " 0.76,\n",
              " 0.77,\n",
              " 0.78,\n",
              " 0.79,\n",
              " 0.8,\n",
              " 0.81,\n",
              " 0.82,\n",
              " 0.83,\n",
              " 0.84,\n",
              " 0.85,\n",
              " 0.86,\n",
              " 0.87,\n",
              " 0.88,\n",
              " 0.89,\n",
              " 0.9,\n",
              " 0.91,\n",
              " 0.92,\n",
              " 0.93,\n",
              " 0.94,\n",
              " 0.95,\n",
              " 0.96,\n",
              " 0.97,\n",
              " 0.98,\n",
              " 0.99]"
            ]
          },
          "execution_count": 62,
          "metadata": {},
          "output_type": "execute_result"
        }
      ],
      "source": [
        "weights_list"
      ]
    },
    {
      "cell_type": "code",
      "execution_count": null,
      "metadata": {
        "id": "Xc1v2JpW9m0r"
      },
      "outputs": [],
      "source": [
        "RMSE"
      ]
    }
  ],
  "metadata": {
    "colab": {
      "provenance": []
    },
    "kernelspec": {
      "display_name": "Python 3",
      "name": "python3"
    },
    "language_info": {
      "name": "python"
    }
  },
  "nbformat": 4,
  "nbformat_minor": 0
}