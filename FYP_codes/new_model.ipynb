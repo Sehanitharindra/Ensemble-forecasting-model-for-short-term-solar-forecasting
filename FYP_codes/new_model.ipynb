{
  "nbformat": 4,
  "nbformat_minor": 0,
  "metadata": {
    "colab": {
      "provenance": []
    },
    "kernelspec": {
      "name": "python3",
      "display_name": "Python 3"
    },
    "language_info": {
      "name": "python"
    }
  },
  "cells": [
    {
      "cell_type": "code",
      "execution_count": null,
      "metadata": {
        "colab": {
          "base_uri": "https://localhost:8080/"
        },
        "id": "XnmApKgACC6H",
        "outputId": "fa774033-d2df-4fcd-9451-b86419d47ca0"
      },
      "outputs": [
        {
          "output_type": "stream",
          "name": "stdout",
          "text": [
            "Mounted at /content/drive\n"
          ]
        }
      ],
      "source": [
        "from google.colab import drive\n",
        "drive.mount('/content/drive')"
      ]
    },
    {
      "cell_type": "code",
      "source": [],
      "metadata": {
        "id": "EQirgMpJCGVu"
      },
      "execution_count": null,
      "outputs": []
    },
    {
      "cell_type": "code",
      "source": [],
      "metadata": {
        "id": "Er9baG6BCGIe"
      },
      "execution_count": null,
      "outputs": []
    },
    {
      "cell_type": "code",
      "source": [
        "import pandas as pd\n",
        "import numpy as np\n",
        "import matplotlib.pyplot as plt\n",
        "import plotly.express as px # to plot the time series plot\n",
        "from sklearn import metrics # for the evaluation\n",
        "from sklearn.preprocessing import LabelEncoder,MinMaxScaler\n",
        "import tensorflow as tf"
      ],
      "metadata": {
        "id": "IN135e7ACF8O"
      },
      "execution_count": null,
      "outputs": []
    },
    {
      "cell_type": "code",
      "source": [
        "data = pd.read_csv('/content/drive/MyDrive/PV power measurements for Location 1 and 3/Location 1 SBRC/GEN_DATA - Sheet1 - GEN_DATA - Sheet1.csv')"
      ],
      "metadata": {
        "id": "-0OMYEzhCNQm"
      },
      "execution_count": null,
      "outputs": []
    },
    {
      "cell_type": "code",
      "source": [
        "for i in data.select_dtypes('object').columns:\n",
        "   le = LabelEncoder().fit(data[i])\n",
        "   data[i] = le.transform(data[i])"
      ],
      "metadata": {
        "id": "QLpurGFFCQ-d"
      },
      "execution_count": null,
      "outputs": []
    },
    {
      "cell_type": "code",
      "source": [
        "X_scaler = MinMaxScaler()\n",
        "Y_scaler = MinMaxScaler()\n",
        "X_data = X_scaler.fit_transform(data[['Time']])\n",
        "Y_data = Y_scaler.fit_transform(data[['Generation']])"
      ],
      "metadata": {
        "id": "1Lh7F4ViCaE3"
      },
      "execution_count": null,
      "outputs": []
    },
    {
      "cell_type": "code",
      "source": [
        "def custom_ts_multi_data_prep(dataset, target, start, end, window, horizon):\n",
        "     X = []\n",
        "     y = []\n",
        "     start = start + window\n",
        "     if end is None:\n",
        "         end = len(dataset) - horizon\n",
        "     for i in range(start, end):\n",
        "         indices = range(i-window, i)\n",
        "         X.append(dataset[indices])\n",
        "         indicey = range(i+1, i+1+horizon)\n",
        "         y.append(target[indicey])\n",
        "     return np.array(X), np.array(y)"
      ],
      "metadata": {
        "id": "_Rg7iGO_ChOt"
      },
      "execution_count": null,
      "outputs": []
    },
    {
      "cell_type": "code",
      "source": [
        "hist_window = 10\n",
        "horizon = 1\n",
        "TRAIN_SPLIT = int(len(X_data)*0.7)\n",
        "x_train, y_train = custom_ts_multi_data_prep(X_data, Y_data, 0, TRAIN_SPLIT, hist_window, horizon)\n",
        "x_vali, y_vali = custom_ts_multi_data_prep(X_data, Y_data, TRAIN_SPLIT, None, hist_window, horizon)"
      ],
      "metadata": {
        "id": "UgKZhsBXCmPN"
      },
      "execution_count": null,
      "outputs": []
    },
    {
      "cell_type": "code",
      "source": [
        "print ('Multiple window of past history\\n')\n",
        "print(x_train[0])\n",
        "print ('\\n Target horizon\\n')\n",
        "print (y_train[0])"
      ],
      "metadata": {
        "colab": {
          "base_uri": "https://localhost:8080/"
        },
        "id": "nQw1DCRAC32t",
        "outputId": "d675cb59-76a8-4432-a405-6d39a40fc175"
      },
      "execution_count": null,
      "outputs": [
        {
          "output_type": "stream",
          "name": "stdout",
          "text": [
            "Multiple window of past history\n",
            "\n",
            "[[0.64      ]\n",
            " [0.64266667]\n",
            " [0.64533333]\n",
            " [0.648     ]\n",
            " [0.65066667]\n",
            " [0.65333333]\n",
            " [0.656     ]\n",
            " [0.65866667]\n",
            " [0.66133333]\n",
            " [0.664     ]]\n",
            "\n",
            " Target horizon\n",
            "\n",
            "[[0.00175308]]\n"
          ]
        }
      ]
    },
    {
      "cell_type": "code",
      "source": [
        "batch_size = 256\n",
        "buffer_size = 150\n",
        "train_data = tf.data.Dataset.from_tensor_slices((x_train, y_train))\n",
        "train_data = train_data.cache().shuffle(buffer_size).batch(batch_size).repeat()\n",
        "val_data = tf.data.Dataset.from_tensor_slices((x_vali, y_vali))\n",
        "val_data = val_data.batch(batch_size).repeat()"
      ],
      "metadata": {
        "id": "id-ojT2dDATV"
      },
      "execution_count": null,
      "outputs": []
    },
    {
      "cell_type": "code",
      "source": [
        "lstm_model = tf.keras.models.Sequential([\n",
        "  tf.keras.layers.Bidirectional(tf.keras.layers.LSTM(128, return_sequences=True),input_shape=x_train.shape[-2:]),\n",
        "  tf.keras.layers.Dropout(0.2),\n",
        "  tf.keras.layers.Bidirectional(tf.keras.layers.LSTM(128, return_sequences= True)),\n",
        "  tf.keras.layers.Dropout(0.2),\n",
        "  tf.keras.layers.Bidirectional(tf.keras.layers.LSTM(64, return_sequences= True)),\n",
        "  #tf.keras.layers.Bidirectional(tf.keras.layers.LSTM(32, return_sequences= True)),\n",
        "  tf.keras.layers.Bidirectional(tf.keras.layers.LSTM(32, return_sequences= True)),\n",
        "  #tf.keras.layers.Bidirectional(tf.keras.layers.LSTM(16, return_sequences= True)),\n",
        "  tf.keras.layers.Bidirectional(tf.keras.layers.LSTM(16, return_sequences= False)),\n",
        "  #tf.keras.layers.Dense(8, activation='tanh'),\n",
        "  tf.keras.layers.Dense(16, activation='tanh'),\n",
        "  #tf.keras.layers.Dropout(0.2),\n",
        "  tf.keras.layers.Dense(8, activation='tanh'),\n",
        "  #tf.keras.layers.Dropout(0.2),\n",
        "  tf.keras.layers.Dense(8, activation='tanh'),\n",
        "  tf.keras.layers.Dense(4, activation='tanh'),\n",
        "  #tf.keras.layers.Dropout(0.2),\n",
        "  tf.keras.layers.Dense(1),\n",
        " ])\n",
        "lstm_model.compile(optimizer='adam', loss='mse')\n",
        "lstm_model.summary()"
      ],
      "metadata": {
        "colab": {
          "base_uri": "https://localhost:8080/"
        },
        "id": "tcTUKa83DDZV",
        "outputId": "6c35b432-ba1d-4622-d11a-a4d2c7b51fca"
      },
      "execution_count": null,
      "outputs": [
        {
          "output_type": "stream",
          "name": "stdout",
          "text": [
            "Model: \"sequential\"\n",
            "_________________________________________________________________\n",
            " Layer (type)                Output Shape              Param #   \n",
            "=================================================================\n",
            " bidirectional (Bidirectiona  (None, 10, 64)           8704      \n",
            " l)                                                              \n",
            "                                                                 \n",
            " bidirectional_1 (Bidirectio  (None, 10, 64)           24832     \n",
            " nal)                                                            \n",
            "                                                                 \n",
            " bidirectional_2 (Bidirectio  (None, 32)               10368     \n",
            " nal)                                                            \n",
            "                                                                 \n",
            " dense (Dense)               (None, 16)                528       \n",
            "                                                                 \n",
            " dense_1 (Dense)             (None, 8)                 136       \n",
            "                                                                 \n",
            " dense_2 (Dense)             (None, 8)                 72        \n",
            "                                                                 \n",
            " dense_3 (Dense)             (None, 4)                 36        \n",
            "                                                                 \n",
            " dense_4 (Dense)             (None, 1)                 5         \n",
            "                                                                 \n",
            "=================================================================\n",
            "Total params: 44,681\n",
            "Trainable params: 44,681\n",
            "Non-trainable params: 0\n",
            "_________________________________________________________________\n"
          ]
        }
      ]
    },
    {
      "cell_type": "code",
      "source": [
        "model_path = 'Bidirectional_LSTM_Multivariate.h5'\n",
        "#early_stopings = tf.keras.callbacks.EarlyStopping(monitor='val_loss', min_delta=0, patience=10, verbose=1, mode='min')\n",
        "checkpoint =  tf.keras.callbacks.ModelCheckpoint(model_path, monitor='val_loss', save_best_only=True, mode='min', verbose=0)\n",
        "callbacks=[checkpoint] #early_stopings]"
      ],
      "metadata": {
        "id": "7m3o0aNeDRpG"
      },
      "execution_count": null,
      "outputs": []
    },
    {
      "cell_type": "code",
      "source": [
        "history = lstm_model.fit(train_data,epochs=100,steps_per_epoch=100,validation_data=val_data,validation_steps=50,verbose=1,callbacks=callbacks)"
      ],
      "metadata": {
        "colab": {
          "base_uri": "https://localhost:8080/"
        },
        "id": "GDjZVPRLDSew",
        "outputId": "cb7013b6-1301-468b-9e8c-31fd16a07673"
      },
      "execution_count": null,
      "outputs": [
        {
          "output_type": "stream",
          "name": "stdout",
          "text": [
            "Epoch 1/100\n",
            "100/100 [==============================] - 9s 91ms/step - loss: 0.0069 - val_loss: 0.0470\n",
            "Epoch 2/100\n",
            "100/100 [==============================] - 9s 86ms/step - loss: 0.0065 - val_loss: 0.0399\n",
            "Epoch 3/100\n",
            "100/100 [==============================] - 6s 59ms/step - loss: 0.0065 - val_loss: 0.0421\n",
            "Epoch 4/100\n",
            "100/100 [==============================] - 6s 58ms/step - loss: 0.0067 - val_loss: 0.0446\n",
            "Epoch 5/100\n",
            "100/100 [==============================] - 6s 62ms/step - loss: 0.0067 - val_loss: 0.0427\n",
            "Epoch 6/100\n",
            "100/100 [==============================] - 6s 59ms/step - loss: 0.0065 - val_loss: 0.0408\n",
            "Epoch 7/100\n",
            "100/100 [==============================] - 6s 61ms/step - loss: 0.0065 - val_loss: 0.0429\n",
            "Epoch 8/100\n",
            "100/100 [==============================] - 6s 57ms/step - loss: 0.0067 - val_loss: 0.0433\n",
            "Epoch 9/100\n",
            "100/100 [==============================] - 6s 61ms/step - loss: 0.0065 - val_loss: 0.0417\n",
            "Epoch 10/100\n",
            "100/100 [==============================] - 9s 85ms/step - loss: 0.0064 - val_loss: 0.0424\n",
            "Epoch 11/100\n",
            "100/100 [==============================] - 6s 60ms/step - loss: 0.0066 - val_loss: 0.0439\n",
            "Epoch 12/100\n",
            "100/100 [==============================] - 6s 62ms/step - loss: 0.0066 - val_loss: 0.0421\n",
            "Epoch 13/100\n",
            "100/100 [==============================] - 7s 69ms/step - loss: 0.0064 - val_loss: 0.0415\n",
            "Epoch 14/100\n",
            "100/100 [==============================] - 6s 58ms/step - loss: 0.0065 - val_loss: 0.0436\n",
            "Epoch 15/100\n",
            "100/100 [==============================] - 6s 61ms/step - loss: 0.0067 - val_loss: 0.0429\n",
            "Epoch 16/100\n",
            "100/100 [==============================] - 6s 62ms/step - loss: 0.0064 - val_loss: 0.0399\n",
            "Epoch 17/100\n",
            "100/100 [==============================] - 6s 60ms/step - loss: 0.0064 - val_loss: 0.0419\n",
            "Epoch 18/100\n",
            "100/100 [==============================] - 6s 59ms/step - loss: 0.0066 - val_loss: 0.0460\n",
            "Epoch 19/100\n",
            "100/100 [==============================] - 6s 61ms/step - loss: 0.0065 - val_loss: 0.0414\n",
            "Epoch 20/100\n",
            "100/100 [==============================] - 6s 62ms/step - loss: 0.0064 - val_loss: 0.0420\n",
            "Epoch 21/100\n",
            "100/100 [==============================] - 6s 59ms/step - loss: 0.0064 - val_loss: 0.0444\n",
            "Epoch 22/100\n",
            "100/100 [==============================] - 6s 59ms/step - loss: 0.0066 - val_loss: 0.0440\n",
            "Epoch 23/100\n",
            "100/100 [==============================] - 6s 61ms/step - loss: 0.0064 - val_loss: 0.0414\n",
            "Epoch 24/100\n",
            "100/100 [==============================] - 6s 59ms/step - loss: 0.0063 - val_loss: 0.0428\n",
            "Epoch 25/100\n",
            "100/100 [==============================] - 6s 62ms/step - loss: 0.0065 - val_loss: 0.0453\n",
            "Epoch 26/100\n",
            "100/100 [==============================] - 6s 60ms/step - loss: 0.0064 - val_loss: 0.0419\n",
            "Epoch 27/100\n",
            "100/100 [==============================] - 6s 56ms/step - loss: 0.0063 - val_loss: 0.0418\n",
            "Epoch 28/100\n",
            "100/100 [==============================] - 6s 59ms/step - loss: 0.0063 - val_loss: 0.0432\n",
            "Epoch 29/100\n",
            "100/100 [==============================] - 6s 56ms/step - loss: 0.0065 - val_loss: 0.0436\n",
            "Epoch 30/100\n",
            "100/100 [==============================] - 6s 57ms/step - loss: 0.0063 - val_loss: 0.0412\n",
            "Epoch 31/100\n",
            "100/100 [==============================] - 7s 71ms/step - loss: 0.0062 - val_loss: 0.0422\n",
            "Epoch 32/100\n",
            "100/100 [==============================] - 6s 60ms/step - loss: 0.0064 - val_loss: 0.0448\n",
            "Epoch 33/100\n",
            "100/100 [==============================] - 6s 60ms/step - loss: 0.0064 - val_loss: 0.0424\n",
            "Epoch 34/100\n",
            "100/100 [==============================] - 6s 57ms/step - loss: 0.0062 - val_loss: 0.0403\n",
            "Epoch 35/100\n",
            "100/100 [==============================] - 6s 57ms/step - loss: 0.0063 - val_loss: 0.0440\n",
            "Epoch 36/100\n",
            "100/100 [==============================] - 6s 60ms/step - loss: 0.0065 - val_loss: 0.0457\n",
            "Epoch 37/100\n",
            "100/100 [==============================] - 6s 62ms/step - loss: 0.0064 - val_loss: 0.0394\n",
            "Epoch 38/100\n",
            "100/100 [==============================] - 6s 60ms/step - loss: 0.0062 - val_loss: 0.0439\n",
            "Epoch 39/100\n",
            "100/100 [==============================] - 6s 61ms/step - loss: 0.0064 - val_loss: 0.0411\n",
            "Epoch 40/100\n",
            "100/100 [==============================] - 6s 58ms/step - loss: 0.0064 - val_loss: 0.0436\n",
            "Epoch 41/100\n",
            "100/100 [==============================] - 6s 58ms/step - loss: 0.0062 - val_loss: 0.0415\n",
            "Epoch 42/100\n",
            "100/100 [==============================] - 6s 63ms/step - loss: 0.0062 - val_loss: 0.0458\n",
            "Epoch 43/100\n",
            "100/100 [==============================] - 6s 62ms/step - loss: 0.0064 - val_loss: 0.0443\n",
            "Epoch 44/100\n",
            "100/100 [==============================] - 6s 63ms/step - loss: 0.0062 - val_loss: 0.0398\n",
            "Epoch 45/100\n",
            "100/100 [==============================] - 6s 62ms/step - loss: 0.0061 - val_loss: 0.0431\n",
            "Epoch 46/100\n",
            "100/100 [==============================] - 6s 60ms/step - loss: 0.0063 - val_loss: 0.0406\n",
            "Epoch 47/100\n",
            "100/100 [==============================] - 6s 61ms/step - loss: 0.0062 - val_loss: 0.0433\n",
            "Epoch 48/100\n",
            "100/100 [==============================] - 7s 72ms/step - loss: 0.0061 - val_loss: 0.0413\n",
            "Epoch 49/100\n",
            "100/100 [==============================] - 6s 58ms/step - loss: 0.0061 - val_loss: 0.0439\n",
            "Epoch 50/100\n",
            "100/100 [==============================] - 6s 58ms/step - loss: 0.0063 - val_loss: 0.0443\n",
            "Epoch 51/100\n",
            "100/100 [==============================] - 6s 62ms/step - loss: 0.0061 - val_loss: 0.0400\n",
            "Epoch 52/100\n",
            "100/100 [==============================] - 6s 60ms/step - loss: 0.0061 - val_loss: 0.0431\n",
            "Epoch 53/100\n",
            "100/100 [==============================] - 6s 60ms/step - loss: 0.0062 - val_loss: 0.0453\n",
            "Epoch 54/100\n",
            "100/100 [==============================] - 6s 60ms/step - loss: 0.0062 - val_loss: 0.0411\n",
            "Epoch 55/100\n",
            "100/100 [==============================] - 6s 61ms/step - loss: 0.0060 - val_loss: 0.0437\n",
            "Epoch 56/100\n",
            "100/100 [==============================] - 6s 62ms/step - loss: 0.0060 - val_loss: 0.0414\n",
            "Epoch 57/100\n",
            "100/100 [==============================] - 6s 61ms/step - loss: 0.0062 - val_loss: 0.0443\n",
            "Epoch 58/100\n",
            "100/100 [==============================] - 6s 59ms/step - loss: 0.0060 - val_loss: 0.0390\n",
            "Epoch 59/100\n",
            "100/100 [==============================] - 6s 63ms/step - loss: 0.0060 - val_loss: 0.0477\n",
            "Epoch 60/100\n",
            "100/100 [==============================] - 6s 63ms/step - loss: 0.0061 - val_loss: 0.0425\n",
            "Epoch 61/100\n",
            "100/100 [==============================] - 6s 62ms/step - loss: 0.0060 - val_loss: 0.0417\n",
            "Epoch 62/100\n",
            "100/100 [==============================] - 6s 59ms/step - loss: 0.0060 - val_loss: 0.0429\n",
            "Epoch 63/100\n",
            "100/100 [==============================] - 6s 61ms/step - loss: 0.0060 - val_loss: 0.0452\n",
            "Epoch 64/100\n",
            "100/100 [==============================] - 6s 64ms/step - loss: 0.0062 - val_loss: 0.0405\n",
            "Epoch 65/100\n",
            "100/100 [==============================] - 6s 63ms/step - loss: 0.0060 - val_loss: 0.0425\n",
            "Epoch 66/100\n",
            "100/100 [==============================] - 6s 64ms/step - loss: 0.0059 - val_loss: 0.0435\n",
            "Epoch 67/100\n",
            "100/100 [==============================] - 6s 61ms/step - loss: 0.0063 - val_loss: 0.0464\n",
            "Epoch 68/100\n",
            "100/100 [==============================] - 6s 63ms/step - loss: 0.0062 - val_loss: 0.0422\n",
            "Epoch 69/100\n",
            "100/100 [==============================] - 6s 60ms/step - loss: 0.0058 - val_loss: 0.0419\n",
            "Epoch 70/100\n",
            "100/100 [==============================] - 6s 59ms/step - loss: 0.0060 - val_loss: 0.0411\n",
            "Epoch 71/100\n",
            "100/100 [==============================] - 6s 61ms/step - loss: 0.0062 - val_loss: 0.0433\n",
            "Epoch 72/100\n",
            "100/100 [==============================] - 6s 61ms/step - loss: 0.0060 - val_loss: 0.0430\n",
            "Epoch 73/100\n",
            "100/100 [==============================] - 6s 62ms/step - loss: 0.0059 - val_loss: 0.0455\n",
            "Epoch 74/100\n",
            "100/100 [==============================] - 6s 60ms/step - loss: 0.0060 - val_loss: 0.0459\n",
            "Epoch 75/100\n",
            "100/100 [==============================] - 6s 61ms/step - loss: 0.0060 - val_loss: 0.0426\n",
            "Epoch 76/100\n",
            "100/100 [==============================] - 6s 58ms/step - loss: 0.0060 - val_loss: 0.0389\n",
            "Epoch 77/100\n",
            "100/100 [==============================] - 6s 63ms/step - loss: 0.0059 - val_loss: 0.0411\n",
            "Epoch 78/100\n",
            "100/100 [==============================] - 6s 60ms/step - loss: 0.0061 - val_loss: 0.0417\n",
            "Epoch 79/100\n",
            "100/100 [==============================] - 6s 58ms/step - loss: 0.0060 - val_loss: 0.0428\n",
            "Epoch 80/100\n",
            "100/100 [==============================] - 6s 62ms/step - loss: 0.0059 - val_loss: 0.0450\n",
            "Epoch 81/100\n",
            "100/100 [==============================] - 6s 60ms/step - loss: 0.0060 - val_loss: 0.0462\n",
            "Epoch 82/100\n",
            "100/100 [==============================] - 6s 63ms/step - loss: 0.0060 - val_loss: 0.0408\n",
            "Epoch 83/100\n",
            "100/100 [==============================] - 6s 61ms/step - loss: 0.0059 - val_loss: 0.0401\n",
            "Epoch 84/100\n",
            "100/100 [==============================] - 6s 64ms/step - loss: 0.0059 - val_loss: 0.0388\n",
            "Epoch 85/100\n",
            "100/100 [==============================] - 6s 60ms/step - loss: 0.0061 - val_loss: 0.0407\n",
            "Epoch 86/100\n",
            "100/100 [==============================] - 6s 59ms/step - loss: 0.0058 - val_loss: 0.0439\n",
            "Epoch 87/100\n",
            "100/100 [==============================] - 6s 58ms/step - loss: 0.0059 - val_loss: 0.0458\n",
            "Epoch 88/100\n",
            "100/100 [==============================] - 6s 61ms/step - loss: 0.0059 - val_loss: 0.0437\n",
            "Epoch 89/100\n",
            "100/100 [==============================] - 6s 59ms/step - loss: 0.0060 - val_loss: 0.0409\n",
            "Epoch 90/100\n",
            "100/100 [==============================] - 6s 58ms/step - loss: 0.0058 - val_loss: 0.0457\n",
            "Epoch 91/100\n",
            "100/100 [==============================] - 6s 62ms/step - loss: 0.0060 - val_loss: 0.0453\n",
            "Epoch 92/100\n",
            "100/100 [==============================] - 6s 62ms/step - loss: 0.0060 - val_loss: 0.0429\n",
            "Epoch 93/100\n",
            "100/100 [==============================] - 6s 61ms/step - loss: 0.0058 - val_loss: 0.0426\n",
            "Epoch 94/100\n",
            "100/100 [==============================] - 6s 61ms/step - loss: 0.0058 - val_loss: 0.0485\n",
            "Epoch 95/100\n",
            "100/100 [==============================] - 6s 60ms/step - loss: 0.0060 - val_loss: 0.0373\n",
            "Epoch 96/100\n",
            "100/100 [==============================] - 6s 64ms/step - loss: 0.0059 - val_loss: 0.0421\n",
            "Epoch 97/100\n",
            "100/100 [==============================] - 6s 60ms/step - loss: 0.0059 - val_loss: 0.0406\n",
            "Epoch 98/100\n",
            "100/100 [==============================] - 6s 63ms/step - loss: 0.0061 - val_loss: 0.0421\n",
            "Epoch 99/100\n",
            "100/100 [==============================] - 6s 60ms/step - loss: 0.0062 - val_loss: 0.0474\n",
            "Epoch 100/100\n",
            "100/100 [==============================] - 6s 61ms/step - loss: 0.0059 - val_loss: 0.0444\n"
          ]
        }
      ]
    },
    {
      "cell_type": "code",
      "source": [
        "plt.figure(figsize=(16,9))\n",
        "plt.plot(history.history['loss'])\n",
        "plt.plot(history.history['val_loss'])\n",
        "plt.title('Model loss')\n",
        "plt.ylabel('loss')\n",
        "plt.xlabel('epoch')\n",
        "plt.legend(['train loss', 'validation loss'])\n",
        "plt.show()\n"
      ],
      "metadata": {
        "colab": {
          "base_uri": "https://localhost:8080/",
          "height": 567
        },
        "id": "moUeJGK1Dbcd",
        "outputId": "800b3794-4bc7-42b4-e18d-1c94ffbd2779"
      },
      "execution_count": null,
      "outputs": [
        {
          "output_type": "display_data",
          "data": {
            "image/png": "[encoded data removed]",
            "text/plain": [
              "<Figure size 1152x648 with 1 Axes>"
            ]
          },
          "metadata": {
            "needs_background": "light"
          }
        }
      ]
    },
    {
      "cell_type": "code",
      "source": [
        "data_val = X_scaler.fit_transform(data[['Time']].tail(10))\n",
        "val_rescaled = data_val.reshape(1, data_val.shape[0], data_val.shape[1])\n",
        "pred = lstm_model.predict(val_rescaled)\n",
        "pred_Inverse = Y_scaler.inverse_transform(pred)\n",
        "pred_Inverse"
      ],
      "metadata": {
        "colab": {
          "base_uri": "https://localhost:8080/"
        },
        "id": "HiuPPLK0Dhcd",
        "outputId": "5e7f96fd-5e87-421c-c959-5c69cad27d50"
      },
      "execution_count": null,
      "outputs": [
        {
          "output_type": "execute_result",
          "data": {
            "text/plain": [
              "array([[93.117455]], dtype=float32)"
            ]
          },
          "metadata": {},
          "execution_count": 23
        }
      ]
    },
    {
      "cell_type": "code",
      "source": [
        "def timeseries_evaluation_metrics_func(y_true, y_pred):\n",
        "     def mean_absolute_percentage_error(y_true, y_pred):\n",
        "         y_true, y_pred = np.array(y_true), np.array(y_pred)\n",
        "         return np.mean(np.abs((y_true - y_pred) / y_true)) * 100\n",
        "     print('Evaluation metric results:-')\n",
        "     print(f'MSE is : {metrics.mean_squared_error(y_true, y_pred)}')\n",
        "     print(f'MAE is : {metrics.mean_absolute_error(y_true, y_pred)}')\n",
        "     print(f'RMSE is : {np.sqrt(metrics.mean_squared_error(y_true, y_pred))}')\n",
        "     print(f'MAPE is : {mean_absolute_percentage_error(y_true, y_pred)}')\n",
        "     print(f'R2 is : {metrics.r2_score(y_true, y_pred)}',end='\\n\\n')\n",
        "timeseries_evaluation_metrics_func(validate['Generation'],pred_Inverse[0])"
      ],
      "metadata": {
        "colab": {
          "base_uri": "https://localhost:8080/",
          "height": 200
        },
        "id": "p9uaTRIyDq7t",
        "outputId": "5259767b-24b2-4b21-c0dd-b9ff8598c698"
      },
      "execution_count": null,
      "outputs": [
        {
          "output_type": "error",
          "ename": "NameError",
          "evalue": "ignored",
          "traceback": [
            "\u001b[0;31m---------------------------------------------------------------------------\u001b[0m",
            "\u001b[0;31mNameError\u001b[0m                                 Traceback (most recent call last)",
            "\u001b[0;32m<ipython-input-25-251201461b46>\u001b[0m in \u001b[0;36m<module>\u001b[0;34m()\u001b[0m\n\u001b[1;32m      9\u001b[0m      \u001b[0mprint\u001b[0m\u001b[0;34m(\u001b[0m\u001b[0;34mf'MAPE is : {mean_absolute_percentage_error(y_true, y_pred)}'\u001b[0m\u001b[0;34m)\u001b[0m\u001b[0;34m\u001b[0m\u001b[0;34m\u001b[0m\u001b[0m\n\u001b[1;32m     10\u001b[0m      \u001b[0mprint\u001b[0m\u001b[0;34m(\u001b[0m\u001b[0;34mf'R2 is : {metrics.r2_score(y_true, y_pred)}'\u001b[0m\u001b[0;34m,\u001b[0m\u001b[0mend\u001b[0m\u001b[0;34m=\u001b[0m\u001b[0;34m'\\n\\n'\u001b[0m\u001b[0;34m)\u001b[0m\u001b[0;34m\u001b[0m\u001b[0;34m\u001b[0m\u001b[0m\n\u001b[0;32m---> 11\u001b[0;31m \u001b[0mtimeseries_evaluation_metrics_func\u001b[0m\u001b[0;34m(\u001b[0m\u001b[0mvalidate\u001b[0m\u001b[0;34m[\u001b[0m\u001b[0;34m'Generation'\u001b[0m\u001b[0;34m]\u001b[0m\u001b[0;34m,\u001b[0m\u001b[0mpred_Inverse\u001b[0m\u001b[0;34m[\u001b[0m\u001b[0;36m0\u001b[0m\u001b[0;34m]\u001b[0m\u001b[0;34m)\u001b[0m\u001b[0;34m\u001b[0m\u001b[0;34m\u001b[0m\u001b[0m\n\u001b[0m",
            "\u001b[0;31mNameError\u001b[0m: name 'validate' is not defined"
          ]
        }
      ]
    },
    {
      "cell_type": "code",
      "source": [
        "plt.figure(figsize=(16,9))\n",
        "plt.plot( list(validate['traffic_volume']))\n",
        "plt.plot( list(pred_Inverse[0]))\n",
        "plt.title(\"Actual vs Predicted\")\n",
        "plt.ylabel(\"Traffic volume\")\n",
        "plt.legend(('Actual','predicted'))\n",
        "plt.show()"
      ],
      "metadata": {
        "id": "Xu6Jt26WD1Il"
      },
      "execution_count": null,
      "outputs": []
    }
  ]
}